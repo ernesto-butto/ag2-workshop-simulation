{
  "cells": [
    {
      "cell_type": "markdown",
      "metadata": {
        "id": "view-in-github",
        "colab_type": "text"
      },
      "source": [
        "<a href=\"https://colab.research.google.com/github/ernesto-butto/ag2-workshop-simulation/blob/main/gameMasterAgent.ipynb\" target=\"_parent\"><img src=\"https://colab.research.google.com/assets/colab-badge.svg\" alt=\"Open In Colab\"/></a>"
      ]
    },
    {
      "cell_type": "markdown",
      "source": [
        "# Intro\n"
      ],
      "metadata": {
        "id": "edi_0rlTVBgh"
      }
    },
    {
      "cell_type": "markdown",
      "source": [
        "Instalar AG2\n",
        "https://docs.ag2.ai/docs/home/quick-start"
      ],
      "metadata": {
        "id": "JhsgL7J7PpXe"
      }
    },
    {
      "cell_type": "code",
      "execution_count": 11,
      "metadata": {
        "colab": {
          "base_uri": "https://localhost:8080/"
        },
        "collapsed": true,
        "id": "hello-world-cell",
        "outputId": "d6a17141-009f-4adf-c24a-a7a3917c7078"
      },
      "outputs": [
        {
          "output_type": "stream",
          "name": "stdout",
          "text": [
            "Requirement already satisfied: ag2 in /usr/local/lib/python3.11/dist-packages (0.7.4)\n",
            "Requirement already satisfied: pyautogen==0.7.4 in /usr/local/lib/python3.11/dist-packages (from ag2) (0.7.4)\n",
            "Requirement already satisfied: asyncer==0.0.8 in /usr/local/lib/python3.11/dist-packages (from pyautogen==0.7.4->ag2) (0.0.8)\n",
            "Requirement already satisfied: diskcache in /usr/local/lib/python3.11/dist-packages (from pyautogen==0.7.4->ag2) (5.6.3)\n",
            "Requirement already satisfied: docker in /usr/local/lib/python3.11/dist-packages (from pyautogen==0.7.4->ag2) (7.1.0)\n",
            "Requirement already satisfied: fast-depends<3,>=2.4.12 in /usr/local/lib/python3.11/dist-packages (from pyautogen==0.7.4->ag2) (2.4.12)\n",
            "Requirement already satisfied: numpy in /usr/local/lib/python3.11/dist-packages (from pyautogen==0.7.4->ag2) (1.26.4)\n",
            "Requirement already satisfied: openai>=1.58 in /usr/local/lib/python3.11/dist-packages (from pyautogen==0.7.4->ag2) (1.61.1)\n",
            "Requirement already satisfied: packaging in /usr/local/lib/python3.11/dist-packages (from pyautogen==0.7.4->ag2) (24.2)\n",
            "Requirement already satisfied: pydantic<3,>=2.6.1 in /usr/local/lib/python3.11/dist-packages (from pyautogen==0.7.4->ag2) (2.10.6)\n",
            "Requirement already satisfied: python-dotenv in /usr/local/lib/python3.11/dist-packages (from pyautogen==0.7.4->ag2) (1.0.1)\n",
            "Requirement already satisfied: termcolor in /usr/local/lib/python3.11/dist-packages (from pyautogen==0.7.4->ag2) (2.5.0)\n",
            "Requirement already satisfied: tiktoken in /usr/local/lib/python3.11/dist-packages (from pyautogen==0.7.4->ag2) (0.9.0)\n",
            "Requirement already satisfied: websockets<15,>=14 in /usr/local/lib/python3.11/dist-packages (from pyautogen==0.7.4->ag2) (14.2)\n",
            "Requirement already satisfied: anyio<5.0,>=3.4.0 in /usr/local/lib/python3.11/dist-packages (from asyncer==0.0.8->pyautogen==0.7.4->ag2) (3.7.1)\n",
            "Requirement already satisfied: distro<2,>=1.7.0 in /usr/local/lib/python3.11/dist-packages (from openai>=1.58->pyautogen==0.7.4->ag2) (1.9.0)\n",
            "Requirement already satisfied: httpx<1,>=0.23.0 in /usr/local/lib/python3.11/dist-packages (from openai>=1.58->pyautogen==0.7.4->ag2) (0.28.1)\n",
            "Requirement already satisfied: jiter<1,>=0.4.0 in /usr/local/lib/python3.11/dist-packages (from openai>=1.58->pyautogen==0.7.4->ag2) (0.8.2)\n",
            "Requirement already satisfied: sniffio in /usr/local/lib/python3.11/dist-packages (from openai>=1.58->pyautogen==0.7.4->ag2) (1.3.1)\n",
            "Requirement already satisfied: tqdm>4 in /usr/local/lib/python3.11/dist-packages (from openai>=1.58->pyautogen==0.7.4->ag2) (4.67.1)\n",
            "Requirement already satisfied: typing-extensions<5,>=4.11 in /usr/local/lib/python3.11/dist-packages (from openai>=1.58->pyautogen==0.7.4->ag2) (4.12.2)\n",
            "Requirement already satisfied: annotated-types>=0.6.0 in /usr/local/lib/python3.11/dist-packages (from pydantic<3,>=2.6.1->pyautogen==0.7.4->ag2) (0.7.0)\n",
            "Requirement already satisfied: pydantic-core==2.27.2 in /usr/local/lib/python3.11/dist-packages (from pydantic<3,>=2.6.1->pyautogen==0.7.4->ag2) (2.27.2)\n",
            "Requirement already satisfied: requests>=2.26.0 in /usr/local/lib/python3.11/dist-packages (from docker->pyautogen==0.7.4->ag2) (2.32.3)\n",
            "Requirement already satisfied: urllib3>=1.26.0 in /usr/local/lib/python3.11/dist-packages (from docker->pyautogen==0.7.4->ag2) (2.3.0)\n",
            "Requirement already satisfied: regex>=2022.1.18 in /usr/local/lib/python3.11/dist-packages (from tiktoken->pyautogen==0.7.4->ag2) (2024.11.6)\n",
            "Requirement already satisfied: idna>=2.8 in /usr/local/lib/python3.11/dist-packages (from anyio<5.0,>=3.4.0->asyncer==0.0.8->pyautogen==0.7.4->ag2) (3.10)\n",
            "Requirement already satisfied: certifi in /usr/local/lib/python3.11/dist-packages (from httpx<1,>=0.23.0->openai>=1.58->pyautogen==0.7.4->ag2) (2025.1.31)\n",
            "Requirement already satisfied: httpcore==1.* in /usr/local/lib/python3.11/dist-packages (from httpx<1,>=0.23.0->openai>=1.58->pyautogen==0.7.4->ag2) (1.0.7)\n",
            "Requirement already satisfied: h11<0.15,>=0.13 in /usr/local/lib/python3.11/dist-packages (from httpcore==1.*->httpx<1,>=0.23.0->openai>=1.58->pyautogen==0.7.4->ag2) (0.14.0)\n",
            "Requirement already satisfied: charset-normalizer<4,>=2 in /usr/local/lib/python3.11/dist-packages (from requests>=2.26.0->docker->pyautogen==0.7.4->ag2) (3.4.1)\n"
          ]
        }
      ],
      "source": [
        "!pip install ag2"
      ]
    },
    {
      "cell_type": "markdown",
      "source": [
        "# Setup"
      ],
      "metadata": {
        "id": "TtxjOwvgUzTz"
      }
    },
    {
      "cell_type": "code",
      "source": [
        "# Surpress warnings\n",
        "import warnings\n",
        "warnings.filterwarnings(\"ignore\")\n"
      ],
      "metadata": {
        "id": "wCZ1ZkZ9QH_E",
        "outputId": "1bca6af8-b8ed-4804-aac5-b0877c63712e",
        "colab": {
          "base_uri": "https://localhost:8080/",
          "height": 17
        }
      },
      "execution_count": 12,
      "outputs": [
        {
          "output_type": "display_data",
          "data": {
            "text/plain": [
              "<IPython.core.display.HTML object>"
            ],
            "text/html": [
              "\n",
              "<style>\n",
              "pre {\n",
              "    white-space: pre-wrap;       /* css-3 */\n",
              "    white-space: -moz-pre-wrap;  /* Mozilla, since 1999 */\n",
              "    white-space: -pre-wrap;      /* Opera 4-6 */\n",
              "    white-space: -o-pre-wrap;    /* Opera 7 */\n",
              "    word-wrap: break-word;       /* Internet Explorer 5.5+ */\n",
              "}\n",
              "</style>\n"
            ]
          },
          "metadata": {}
        }
      ]
    },
    {
      "cell_type": "code",
      "source": [
        "# 1. Import our agent class\n",
        "from autogen import ConversableAgent, UserProxyAgent\n",
        "from pprint import pprint"
      ],
      "metadata": {
        "id": "JQ5lmqxzrtmH"
      },
      "execution_count": 13,
      "outputs": []
    },
    {
      "cell_type": "code",
      "source": [
        "llm_config = {\"config_list\": [{\n",
        "    \"model\": \"gpt-4o-mini\",  # This should match your Azure deployment name\n",
        "    \"api_key\": \"0d20814cba1242d39825274ccd99d2e5\",\n",
        "    \"base_url\": \"https://ai-ernestobuttoai916354951815.services.ai.azure.com/\",\n",
        "    \"api_type\": \"azure\",\n",
        "    \"api_version\": \"2024-08-01-preview\",\n",
        "    \"temperature\": 0.8\n",
        "}]}"
      ],
      "metadata": {
        "id": "jxV5pJZOSj3M"
      },
      "execution_count": 14,
      "outputs": []
    },
    {
      "cell_type": "markdown",
      "source": [
        "# Agente Creador de Escenarios\n",
        "🔹 **Attendees Build:**\n",
        "\n",
        "- **(A) Scenario Creation Agent** → Generates a simulation scenario.\n",
        "- **(B) Mocked User Agent** → Simulates a user providing input for scenario generation.\n"
      ],
      "metadata": {
        "id": "qP69YKlwU6RW"
      }
    },
    {
      "cell_type": "code",
      "source": [
        "fin_de_conversacion_keyword = \"FIN_CONVERSACION\""
      ],
      "metadata": {
        "id": "1VTgZdJhZ5XJ"
      },
      "execution_count": 15,
      "outputs": []
    },
    {
      "cell_type": "code",
      "source": [
        "def createGameMasterAgent(escenario):\n",
        "\n",
        "  return ConversableAgent(\n",
        "      name=\"gameMasterAgent\",\n",
        "      llm_config=llm_config,\n",
        "      code_execution_config=False,\n",
        "      human_input_mode=\"NEVER\",\n",
        "      system_message=f\"\"\"\n",
        "      **Meta**: Este es un escenario de juego de roles en el que el usuario (estudiante) practica alguna habilidad que le interese mejorar\n",
        "\n",
        "      **Persona**: En este escenario interpretas AI Mentor, un amigable y práctico mentor\n",
        "\n",
        "      **Narrativa**: Dado el escenario de abajo, interpreta la contrapartida del usuario.\n",
        "\n",
        "      EMPIEZA_EL_ESCENARIO\n",
        "      {escenario}\n",
        "      TERMINA_EL_ESCENARIO\n",
        "\n",
        "      **Debes hacer lo siguiente**\n",
        "      1. Interpreta la contrapartida del usuario\n",
        "      2. Después de 6 turnos, intenta de cerrar la interacción\n",
        "      3. Si el estudiante lo está haciendo bien, considera aumentar la dificultad de la simulación, haciendola más retadora\n",
        "      4. Marca el final de la conversación con el keyword: {fin_de_conversacion_keyword}\n",
        "\n",
        "      \"\"\",\n",
        "      is_termination_msg=lambda msg: fin_de_conversacion_keyword in msg[\"content\"],\n",
        "  )\n"
      ],
      "metadata": {
        "id": "ncOoGXnYQN9N"
      },
      "execution_count": 16,
      "outputs": []
    },
    {
      "cell_type": "code",
      "source": [
        "def mockedUserAgent():\n",
        "  return ConversableAgent(\n",
        "        \"mocked_student\",\n",
        "        llm_config=llm_config,\n",
        "        human_input_mode=\"NEVER\",  # always ask for human input\n",
        "        system_message=f\"\"\"\n",
        "        Eres un estudiante que está aprendiendo habilidades atravéz de simulaciones,\n",
        "        vas a hacer una simulación con una pareja de una habilidad que estás aprendiendo todavía, y necesitas practicar para mejorar.\n",
        "        \"\"\",\n",
        "        code_execution_config=False,\n",
        "        is_termination_msg=lambda msg: fin_de_conversacion_keyword in msg[\"content\"],\n",
        "    )"
      ],
      "metadata": {
        "id": "3AZr1ObAV1MK"
      },
      "execution_count": 17,
      "outputs": []
    },
    {
      "cell_type": "markdown",
      "source": [
        "# Simulacion estudiante simulado"
      ],
      "metadata": {
        "id": "5fFoWvNsjiT2"
      }
    },
    {
      "cell_type": "code",
      "source": [
        "scenario = f\"\"\"\n",
        "**Escenario: Apoyo en la Playa de Surf**\n",
        "\n",
        "Ubicación: Una playa popular para surfistas, con olas suaves y un ambiente relajado.\n",
        "\n",
        "Objetivo: Acercarte a un surfista que parece desanimado y practicar tu empatía al escuchar sus preocupaciones y ofrecerle apoyo.\n",
        "\n",
        "Descripción:\n",
        "Te encuentras en la playa, disfrutando de un día de surf. Observas a un surfista que está sentado en la arena, mirando al mar con expresión de frustración. Parece que ha estado intentando atrapar olas, pero no ha tenido suerte.\n",
        "\n",
        "Tu tarea es acercarte a él, saludarlo y preguntar cómo se siente respecto al surf ese día. A medida que conversas, escucha atentamente lo que dice, valida sus sentimientos y compárteles alguna experiencia similar que hayas tenido, para mostrarle que comprendes lo que está pasando.\n",
        "\n",
        "Al final de la conversación, intenta animarlo y sugiere que podrían intentar surfear juntos para que se sienta más apoyado.\n",
        "\n",
        "¡Espero que disfrutes mucho practicando este escenario! Si necesitas más ayuda en el futuro, aquí estaré.\n",
        "\n",
        "FIN_ESCENARIO\n",
        "\n",
        "\"\"\""
      ],
      "metadata": {
        "id": "SHz0VcsiQ6IA",
        "collapsed": true
      },
      "execution_count": 21,
      "outputs": []
    },
    {
      "cell_type": "code",
      "source": [
        "# Formatting Break long lines\n",
        "from IPython.display import HTML, display\n",
        "\n",
        "display(HTML(\"\"\"\n",
        "<style>\n",
        "pre {\n",
        "    white-space: pre-wrap;       /* css-3 */\n",
        "    white-space: -moz-pre-wrap;  /* Mozilla, since 1999 */\n",
        "    white-space: -pre-wrap;      /* Opera 4-6 */\n",
        "    white-space: -o-pre-wrap;    /* Opera 7 */\n",
        "    word-wrap: break-word;       /* Internet Explorer 5.5+ */\n",
        "}\n",
        "</style>\n",
        "\"\"\"))\n",
        "\n",
        "# Crear el Game Master\n",
        "game_master = createGameMasterAgent(scenario)\n",
        "\n",
        "# Crear el estudiante simulado\n",
        "estudiante_simulado = mockedUserAgent()\n",
        "chat_result = estudiante_simulado.initiate_chat(\n",
        "    game_master,\n",
        "    message=\"Hola!\",\n",
        "    max_turns=12,\n",
        "    summary_method=\"reflection_with_llm\"\n",
        ")"
      ],
      "metadata": {
        "id": "xTCVpThKrGLV",
        "outputId": "da218d88-3dca-4488-99e6-afd27dd5271d",
        "colab": {
          "base_uri": "https://localhost:8080/",
          "height": 1000
        }
      },
      "execution_count": 22,
      "outputs": [
        {
          "output_type": "display_data",
          "data": {
            "text/plain": [
              "<IPython.core.display.HTML object>"
            ],
            "text/html": [
              "\n",
              "<style>\n",
              "pre {\n",
              "    white-space: pre-wrap;       /* css-3 */\n",
              "    white-space: -moz-pre-wrap;  /* Mozilla, since 1999 */\n",
              "    white-space: -pre-wrap;      /* Opera 4-6 */\n",
              "    white-space: -o-pre-wrap;    /* Opera 7 */\n",
              "    word-wrap: break-word;       /* Internet Explorer 5.5+ */\n",
              "}\n",
              "</style>\n"
            ]
          },
          "metadata": {}
        },
        {
          "output_type": "stream",
          "name": "stdout",
          "text": [
            "mocked_student (to gameMasterAgent):\n",
            "\n",
            "Hola!\n",
            "\n",
            "--------------------------------------------------------------------------------\n",
            "gameMasterAgent (to mocked_student):\n",
            "\n",
            "¡Hola! Veo que estás disfrutando de la playa, ¿cómo te sientes hoy con el surf? Te noto un poco pensativo.\n",
            "\n",
            "--------------------------------------------------------------------------------\n",
            "mocked_student (to gameMasterAgent):\n",
            "\n",
            "Hola, sí, he estado pensando en cómo mejorar mis habilidades de surf. Me encanta estar en el agua, pero a veces me cuesta mantener el equilibrio y atrapar las olas. ¿Tienes algún consejo o técnica que me pueda ayudar?\n",
            "\n",
            "--------------------------------------------------------------------------------\n",
            "gameMasterAgent (to mocked_student):\n",
            "\n",
            "Entiendo cómo te sientes. Mejorar en el surf puede ser frustrante a veces. También he pasado por momentos en los que simplemente no podía atrapar una ola, y eso puede ser desalentador. Pero lo importante es recordar que todos pasamos por altibajos. \n",
            "\n",
            "Una técnica que me ayudó fue enfocarme en mi postura y distribución del peso. Asegúrate de estar bien centrado en la tabla, y practica el movimiento de levantarte de manera controlada. A veces, la clave está en la paciencia y en disfrutar del proceso. \n",
            "\n",
            "¿Te gustaría compartir un poco más sobre alguna experiencia específica que hayas tenido en el agua?\n",
            "\n",
            "--------------------------------------------------------------------------------\n",
            "mocked_student (to gameMasterAgent):\n",
            "\n",
            "Claro, el otro día intenté atrapar una ola grande, pero me caí varias veces. Sentí que no estaba en la posición correcta y eso me desanimó. A veces, me pongo nervioso cuando veo una ola grande, y eso afecta mi equilibrio. ¿Tienes algún consejo sobre cómo manejar esos nervios?\n",
            "\n",
            "--------------------------------------------------------------------------------\n",
            "gameMasterAgent (to mocked_student):\n",
            "\n",
            "Es natural sentirse nervioso ante una ola grande, muchos surfistas experimentan eso. Una vez, enfrenté una ola que me intimidaba, y lo que me ayudó fue respirar profundamente y visualizarme surfeando con confianza. Tomarte un momento para calmarte y enfocarte en tu respiración puede hacer maravillas.\n",
            "\n",
            "También podría ser útil practicar en olas más pequeñas primero, para aumentar tu confianza y familiarizarte con la sensación de estar en la tabla. Cada pequeño avance cuenta, y celebrar esos logros puede ayudarte a construir tu confianza.\n",
            "\n",
            "¿Te gustaría que intentáramos surfear juntos más tarde? Podría ser más fácil si tienes a alguien a tu lado.\n",
            "\n",
            "--------------------------------------------------------------------------------\n",
            "mocked_student (to gameMasterAgent):\n",
            "\n",
            "Sí, eso suena genial. Creo que surfear juntos me ayudaría a sentirme más seguro y menos nervioso. Además, tener a alguien que me apoye en el agua me haría sentir más cómodo. ¿Podríamos repasar un par de técnicas antes de entrar al agua? Tal vez practicar la postura y el levantamiento.\n",
            "\n",
            "--------------------------------------------------------------------------------\n",
            "gameMasterAgent (to mocked_student):\n",
            "\n",
            "¡Por supuesto! Me encantaría repasar esas técnicas contigo. Practicar la postura es fundamental. Recuerda que al estar en la tabla, tus pies deben estar alineados con el centro, y tus hombros deben estar relajados. \n",
            "\n",
            "Para levantarte, es clave que empieces en una posición de plancha, con tus manos en la tabla y los pies juntos. Luego, cuando sientas que la ola te empuja, coloca un pie en el centro y el otro en la parte trasera de la tabla. Mantén la mirada hacia adelante, no hacia abajo, y trata de mantener el equilibrio con tus rodillas ligeramente flexionadas.\n",
            "\n",
            "¿Te gustaría que te muestre cómo hacerlo en la arena primero antes de entrar al agua? Practicar en tierra puede darte un poco más de confianza.\n",
            "\n",
            "--------------------------------------------------------------------------------\n",
            "mocked_student (to gameMasterAgent):\n",
            "\n",
            "Sí, definitivamente me gustaría practicar en la arena primero. Siento que eso me ayudará a recordar los movimientos cuando estemos en el agua. Estoy ansioso por aprender y mejorar mis habilidades. ¡Vamos a hacerlo!\n",
            "\n",
            "--------------------------------------------------------------------------------\n",
            "gameMasterAgent (to mocked_student):\n",
            "\n",
            "Eso es genial, ¡me alegra que estés motivado! Vamos a encontrar un lugar en la arena donde podamos practicar sin distracciones. \n",
            "\n",
            "Primero, empecemos por la postura. Imagina que estás en la tabla: coloca tus manos en el suelo, como si estuvieras en la posición de plancha. Asegúrate de que tus brazos estén rectos y tus pies juntos. Luego, cuando digamos \"ola\", intentarás levantarte de la manera que te expliqué.\n",
            "\n",
            "Practiquemos eso un par de veces. Recuerda, lo más importante es relajar tus hombros y mantener la mirada hacia adelante. ¡Vamos a intentarlo juntos! ¿Listo?\n",
            "\n",
            "--------------------------------------------------------------------------------\n",
            "mocked_student (to gameMasterAgent):\n",
            "\n",
            "¡Listo! Estoy emocionado por comenzar. Haré la posición de plancha y cuando digas \"ola\", intentaré levantarme como me enseñaste. ¡Vamos a hacerlo!\n",
            "\n",
            "--------------------------------------------------------------------------------\n",
            "gameMasterAgent (to mocked_student):\n",
            "\n",
            "¡Perfecto! Estoy aquí animándote. Ahora, coloca tus manos en la arena y tus pies juntos, como si estuvieras en la tabla. Cuando estés en posición, voy a contar hasta tres. Recuerda relajarte y mantener la mirada hacia adelante. \n",
            "\n",
            "Uno... dos... ¡tres! ¡Ola! \n",
            "\n",
            "¡Levántate! ¡Eso es! Muy bien, veo que lo estás haciendo genial. Recuerda mantener tus rodillas ligeramente flexionadas y el equilibrio. ¿Cómo te sentiste al intentar levantarte?\n",
            "\n",
            "--------------------------------------------------------------------------------\n",
            "mocked_student (to gameMasterAgent):\n",
            "\n",
            "Me sentí bastante bien, aunque un poco tambaleante al principio. Creo que mi postura estaba bien, pero necesito practicar más para sentirme más seguro al levantarme. Me gustó que me recordaras mantener la mirada hacia adelante, eso realmente ayudó. ¿Podemos intentarlo de nuevo? \n",
            "\n",
            "--------------------------------------------------------------------------------\n",
            "gameMasterAgent (to mocked_student):\n",
            "\n",
            "¡Claro que sí! La práctica es clave, y lo estás haciendo muy bien. Es completamente normal sentirse un poco tambaleante al principio. Cada intento te acerca más a la confianza que buscas.\n",
            "\n",
            "Vamos a intentarlo de nuevo. Recuerda que cada vez que practiques, tu cuerpo se irá acostumbrando más a los movimientos. Coloca tus manos en la arena y tus pies juntos. Cuando estés listo, contaré hasta tres nuevamente.\n",
            "\n",
            "Uno... dos... ¡tres! ¡Ola! \n",
            "\n",
            "¡Levántate! ¡Genial! ¡Eso es! Estás mejorando. Recuerda que está bien si no te sientes perfecto, lo importante es seguir intentándolo. ¿Cómo te sentiste esta vez?\n",
            "\n",
            "--------------------------------------------------------------------------------\n",
            "mocked_student (to gameMasterAgent):\n",
            "\n",
            "Me sentí un poco más seguro esta vez. Al levantarme, logré mantener el equilibrio un poco más antes de tambalearme. Creo que estoy empezando a entender mejor el movimiento. Gracias por tu apoyo y por recordarme que lo importante es seguir practicando. ¿Podríamos hacer una última práctica antes de entrar al agua?\n",
            "\n",
            "--------------------------------------------------------------------------------\n",
            "gameMasterAgent (to mocked_student):\n",
            "\n",
            "¡Me alegra escuchar que te sientes más seguro! Esas pequeñas mejoras son muy importantes y cada intento cuenta. Claro, hagamos una última práctica. Cuanto más lo hagas, más natural se sentirá.\n",
            "\n",
            "Coloca tus manos en la arena y tus pies juntos una vez más. Recuerda la postura correcta y la importancia de la mirada hacia adelante. Vamos a hacer esto una vez más. \n",
            "\n",
            "Uno... dos... ¡tres! ¡Ola! \n",
            "\n",
            "¡Levántate! ¡Perfecto! ¡Veo que estás ganando confianza! Mantén esa energía positiva. Cuando estemos en el agua, recuerda que es un proceso y que estoy aquí para apoyarte. ¿Te sientes listo para dar el siguiente paso y surfear juntos?\n",
            "\n",
            "--------------------------------------------------------------------------------\n",
            "mocked_student (to gameMasterAgent):\n",
            "\n",
            "Sí, definitivamente me siento más listo ahora. Gracias por tu paciencia y apoyo. Siento que he mejorado un poco en la arena, y estoy emocionado por ponerlo en práctica en el agua. ¡Vamos a surfear juntos!\n",
            "\n",
            "--------------------------------------------------------------------------------\n",
            "gameMasterAgent (to mocked_student):\n",
            "\n",
            "¡Eso suena genial! Estoy muy contento de que te sientas listo y emocionado por surfear. La confianza que has ganado aquí en la arena te ayudará mucho en el agua. Recuerda disfrutar cada momento y no ser demasiado duro contigo mismo si las cosas no salen perfectas al principio.\n",
            "\n",
            "Vamos a entrar al agua y a aprovechar esas olas. Estoy aquí para animarte y ayudarte en lo que necesites. ¡Vamos a hacerlo! \n",
            "\n",
            "FIN_CONVERSACION\n",
            "\n",
            "--------------------------------------------------------------------------------\n"
          ]
        }
      ]
    },
    {
      "cell_type": "code",
      "source": [
        "print(\"RESUMEN\")\n",
        "pprint(chat_result.summary)\n",
        "\n",
        "\n",
        "print(\"COSTO\")\n",
        "pprint(chat_result.cost)\n",
        "print()"
      ],
      "metadata": {
        "colab": {
          "base_uri": "https://localhost:8080/"
        },
        "collapsed": true,
        "id": "_Al5KdlF2lWG",
        "outputId": "33818a1a-1312-4788-a612-4264e189bd6f"
      },
      "execution_count": 23,
      "outputs": [
        {
          "output_type": "stream",
          "name": "stdout",
          "text": [
            "RESUMEN\n",
            "('The conversation focused on improving surfing skills, specifically balance '\n",
            " 'and technique for standing up on the board. Key takeaways include practicing '\n",
            " 'the correct posture, breathing to manage nerves, and the importance of '\n",
            " 'visualization and support from a partner. Consistent practice on land helped '\n",
            " 'build confidence for surfing in the water. Overall, maintaining a positive '\n",
            " 'attitude and enjoying the process were emphasized as essential for '\n",
            " 'improvement.')\n",
            "COSTO\n",
            "{'usage_excluding_cached_inference': {'gpt-4o-mini-2024-07-18': {'completion_tokens': 1638,\n",
            "                                                                 'cost': 0.0038477999999999997,\n",
            "                                                                 'prompt_tokens': 19100,\n",
            "                                                                 'total_tokens': 20738},\n",
            "                                      'total_cost': 0.0038477999999999997},\n",
            " 'usage_including_cached_inference': {'gpt-4o-mini-2024-07-18': {'completion_tokens': 1638,\n",
            "                                                                 'cost': 0.0038477999999999997,\n",
            "                                                                 'prompt_tokens': 19100,\n",
            "                                                                 'total_tokens': 20738},\n",
            "                                      'total_cost': 0.0038477999999999997}}\n",
            "\n"
          ]
        }
      ]
    },
    {
      "cell_type": "markdown",
      "source": [
        "# Interacción con usuario real\n"
      ],
      "metadata": {
        "id": "kfr6jSbyIqRk"
      }
    },
    {
      "cell_type": "code",
      "source": [
        "real_user_parnter = UserProxyAgent(\n",
        "            name=\"user\",\n",
        "            human_input_mode=\"ALWAYS\",\n",
        "        )"
      ],
      "metadata": {
        "id": "-XrdAk9A238I"
      },
      "execution_count": null,
      "outputs": []
    },
    {
      "cell_type": "code",
      "source": [
        "# chat_result = creador_de_escenario.initiate_chat(\n",
        "#     real_user_parnter,\n",
        "#     message=\"Hola!\",\n",
        "#     max_turns=12,\n",
        "#     summary_method=\"reflection_with_llm\",\n",
        "#     summary_prompt=\"Escribe el escenario en Español\",\n",
        "#     is_termination_msg=lambda msg: fin_de_conversacion_keyword in msg[\"content\"]\n",
        "# )"
      ],
      "metadata": {
        "id": "L6rXwRaW2zSS"
      },
      "execution_count": null,
      "outputs": []
    },
    {
      "cell_type": "code",
      "source": [
        "print(\"SUMMARY\")\n",
        "pprint(chat_result.summary)\n",
        "print()\n",
        "\n",
        "print(\"COST\")\n",
        "pprint(chat_result.cost)\n",
        "print()\n",
        "\n",
        "pprint(\"ESCENARIO\")\n",
        "escenario_2 = chat_result.chat_history[-1][\"content\"]\n",
        "print(escenario_2)\n",
        "print()\n"
      ],
      "metadata": {
        "id": "vP3YcsUPJp2V"
      },
      "execution_count": null,
      "outputs": []
    }
  ],
  "metadata": {
    "kernelspec": {
      "display_name": "Python 3",
      "language": "python",
      "name": "python3"
    },
    "language_info": {
      "codemirror_mode": {
        "name": "ipython",
        "version": 3
      },
      "file_extension": ".py",
      "mimetype": "text/x-python",
      "name": "python",
      "nbconvert_exporter": "python",
      "pygments_lexer": "ipython3",
      "version": "3.8.10"
    },
    "colab": {
      "provenance": [],
      "include_colab_link": true
    }
  },
  "nbformat": 4,
  "nbformat_minor": 0
}