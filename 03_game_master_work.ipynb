{
  "cells": [
    {
      "cell_type": "markdown",
      "metadata": {
        "id": "view-in-github",
        "colab_type": "text"
      },
      "source": [
        "<a href=\"https://colab.research.google.com/github/ernesto-butto/ag2-workshop-simulation/blob/main/03_game_master_work.ipynb\" target=\"_parent\"><img src=\"https://colab.research.google.com/assets/colab-badge.svg\" alt=\"Open In Colab\"/></a>"
      ]
    },
    {
      "cell_type": "markdown",
      "source": [
        "# Requerimientos\n",
        "\n",
        "# 🏗️ **Requerimientos para el Agente Game Master**\n",
        "## 🚀 Objetivo:\n",
        "Vas a construir un **Agente Game Master** que **modera la simulación** y responde de forma dinámica, interpretando el papel de la contrapartida en la simulación de una habilidad.\n",
        "\n",
        "## 📌 **Ideas y Consejos para crear el Agente**\n",
        "1. **Recibe el escenario generado previamente**:\n",
        "   - El Game Master recibe un escenario.\n",
        "   - Asegúrate de que el escenario esté correctamente estructurado antes de iniciar la simulación.\n",
        "\n",
        "2. **Interpreta un personaje y modera la simulación**:\n",
        "   - El Game Master asume el **rol de la contrapartida** del usuario en la simulación.\n",
        "   - Responde de manera natural y en línea con el contexto del escenario.\n",
        "\n",
        "3. **Asegura una interacción progresiva y desafiante**:\n",
        "   - **Tras 6 turnos**, intenta cerrar la conversación de manera natural.\n",
        "   - Si el usuario lo está haciendo bien, **incrementa la dificultad de la simulación**.\n",
        "   - Si el usuario tiene dificultades, ofrece sugerencias o guía.\n",
        "\n",
        "4. **Debe marcar el final de la conversación**:\n",
        "   - La conversación debe **finalizar con la palabra clave**: `FIN_CONVERSACION`.\n",
        "\n",
        "5. **Itera el prompt simulando con un usuario simulado**:\n",
        "   - Implementa un agente que actúe como **usuario ficticio** para probar el Game Master.\n",
        "   - Simula varias interacciones para ajustar el prompt.\n",
        "\n",
        "6. **Pruébalo tú mism@**:\n",
        "   - Una vez hayas ajustado el prompt con un usuario simulado, interactúa con el Game Master tú mismo/a.\n",
        "   - Evalúa si la experiencia es realista, útil y si cumple con su propósito.\n"
      ],
      "metadata": {
        "id": "JhsgL7J7PpXe"
      }
    },
    {
      "cell_type": "code",
      "execution_count": null,
      "metadata": {
        "colab": {
          "base_uri": "https://localhost:8080/"
        },
        "collapsed": true,
        "id": "hello-world-cell",
        "outputId": "d6a17141-009f-4adf-c24a-a7a3917c7078"
      },
      "outputs": [
        {
          "output_type": "stream",
          "name": "stdout",
          "text": [
            "Requirement already satisfied: ag2 in /usr/local/lib/python3.11/dist-packages (0.7.4)\n",
            "Requirement already satisfied: pyautogen==0.7.4 in /usr/local/lib/python3.11/dist-packages (from ag2) (0.7.4)\n",
            "Requirement already satisfied: asyncer==0.0.8 in /usr/local/lib/python3.11/dist-packages (from pyautogen==0.7.4->ag2) (0.0.8)\n",
            "Requirement already satisfied: diskcache in /usr/local/lib/python3.11/dist-packages (from pyautogen==0.7.4->ag2) (5.6.3)\n",
            "Requirement already satisfied: docker in /usr/local/lib/python3.11/dist-packages (from pyautogen==0.7.4->ag2) (7.1.0)\n",
            "Requirement already satisfied: fast-depends<3,>=2.4.12 in /usr/local/lib/python3.11/dist-packages (from pyautogen==0.7.4->ag2) (2.4.12)\n",
            "Requirement already satisfied: numpy in /usr/local/lib/python3.11/dist-packages (from pyautogen==0.7.4->ag2) (1.26.4)\n",
            "Requirement already satisfied: openai>=1.58 in /usr/local/lib/python3.11/dist-packages (from pyautogen==0.7.4->ag2) (1.61.1)\n",
            "Requirement already satisfied: packaging in /usr/local/lib/python3.11/dist-packages (from pyautogen==0.7.4->ag2) (24.2)\n",
            "Requirement already satisfied: pydantic<3,>=2.6.1 in /usr/local/lib/python3.11/dist-packages (from pyautogen==0.7.4->ag2) (2.10.6)\n",
            "Requirement already satisfied: python-dotenv in /usr/local/lib/python3.11/dist-packages (from pyautogen==0.7.4->ag2) (1.0.1)\n",
            "Requirement already satisfied: termcolor in /usr/local/lib/python3.11/dist-packages (from pyautogen==0.7.4->ag2) (2.5.0)\n",
            "Requirement already satisfied: tiktoken in /usr/local/lib/python3.11/dist-packages (from pyautogen==0.7.4->ag2) (0.9.0)\n",
            "Requirement already satisfied: websockets<15,>=14 in /usr/local/lib/python3.11/dist-packages (from pyautogen==0.7.4->ag2) (14.2)\n",
            "Requirement already satisfied: anyio<5.0,>=3.4.0 in /usr/local/lib/python3.11/dist-packages (from asyncer==0.0.8->pyautogen==0.7.4->ag2) (3.7.1)\n",
            "Requirement already satisfied: distro<2,>=1.7.0 in /usr/local/lib/python3.11/dist-packages (from openai>=1.58->pyautogen==0.7.4->ag2) (1.9.0)\n",
            "Requirement already satisfied: httpx<1,>=0.23.0 in /usr/local/lib/python3.11/dist-packages (from openai>=1.58->pyautogen==0.7.4->ag2) (0.28.1)\n",
            "Requirement already satisfied: jiter<1,>=0.4.0 in /usr/local/lib/python3.11/dist-packages (from openai>=1.58->pyautogen==0.7.4->ag2) (0.8.2)\n",
            "Requirement already satisfied: sniffio in /usr/local/lib/python3.11/dist-packages (from openai>=1.58->pyautogen==0.7.4->ag2) (1.3.1)\n",
            "Requirement already satisfied: tqdm>4 in /usr/local/lib/python3.11/dist-packages (from openai>=1.58->pyautogen==0.7.4->ag2) (4.67.1)\n",
            "Requirement already satisfied: typing-extensions<5,>=4.11 in /usr/local/lib/python3.11/dist-packages (from openai>=1.58->pyautogen==0.7.4->ag2) (4.12.2)\n",
            "Requirement already satisfied: annotated-types>=0.6.0 in /usr/local/lib/python3.11/dist-packages (from pydantic<3,>=2.6.1->pyautogen==0.7.4->ag2) (0.7.0)\n",
            "Requirement already satisfied: pydantic-core==2.27.2 in /usr/local/lib/python3.11/dist-packages (from pydantic<3,>=2.6.1->pyautogen==0.7.4->ag2) (2.27.2)\n",
            "Requirement already satisfied: requests>=2.26.0 in /usr/local/lib/python3.11/dist-packages (from docker->pyautogen==0.7.4->ag2) (2.32.3)\n",
            "Requirement already satisfied: urllib3>=1.26.0 in /usr/local/lib/python3.11/dist-packages (from docker->pyautogen==0.7.4->ag2) (2.3.0)\n",
            "Requirement already satisfied: regex>=2022.1.18 in /usr/local/lib/python3.11/dist-packages (from tiktoken->pyautogen==0.7.4->ag2) (2024.11.6)\n",
            "Requirement already satisfied: idna>=2.8 in /usr/local/lib/python3.11/dist-packages (from anyio<5.0,>=3.4.0->asyncer==0.0.8->pyautogen==0.7.4->ag2) (3.10)\n",
            "Requirement already satisfied: certifi in /usr/local/lib/python3.11/dist-packages (from httpx<1,>=0.23.0->openai>=1.58->pyautogen==0.7.4->ag2) (2025.1.31)\n",
            "Requirement already satisfied: httpcore==1.* in /usr/local/lib/python3.11/dist-packages (from httpx<1,>=0.23.0->openai>=1.58->pyautogen==0.7.4->ag2) (1.0.7)\n",
            "Requirement already satisfied: h11<0.15,>=0.13 in /usr/local/lib/python3.11/dist-packages (from httpcore==1.*->httpx<1,>=0.23.0->openai>=1.58->pyautogen==0.7.4->ag2) (0.14.0)\n",
            "Requirement already satisfied: charset-normalizer<4,>=2 in /usr/local/lib/python3.11/dist-packages (from requests>=2.26.0->docker->pyautogen==0.7.4->ag2) (3.4.1)\n"
          ]
        }
      ],
      "source": [
        "!pip install ag2"
      ]
    },
    {
      "cell_type": "markdown",
      "source": [
        "# Setup"
      ],
      "metadata": {
        "id": "TtxjOwvgUzTz"
      }
    },
    {
      "cell_type": "code",
      "source": [
        "# Surpress warnings\n",
        "import warnings\n",
        "warnings.filterwarnings(\"ignore\")\n"
      ],
      "metadata": {
        "id": "wCZ1ZkZ9QH_E",
        "colab": {
          "base_uri": "https://localhost:8080/",
          "height": 17
        },
        "outputId": "1bca6af8-b8ed-4804-aac5-b0877c63712e"
      },
      "execution_count": null,
      "outputs": [
        {
          "output_type": "display_data",
          "data": {
            "text/plain": [
              "<IPython.core.display.HTML object>"
            ],
            "text/html": [
              "\n",
              "<style>\n",
              "pre {\n",
              "    white-space: pre-wrap;       /* css-3 */\n",
              "    white-space: -moz-pre-wrap;  /* Mozilla, since 1999 */\n",
              "    white-space: -pre-wrap;      /* Opera 4-6 */\n",
              "    white-space: -o-pre-wrap;    /* Opera 7 */\n",
              "    word-wrap: break-word;       /* Internet Explorer 5.5+ */\n",
              "}\n",
              "</style>\n"
            ]
          },
          "metadata": {}
        }
      ]
    },
    {
      "cell_type": "code",
      "source": [
        "# 1. Import our agent class\n",
        "from autogen import ConversableAgent, UserProxyAgent\n",
        "from pprint import pprint"
      ],
      "metadata": {
        "id": "JQ5lmqxzrtmH"
      },
      "execution_count": null,
      "outputs": []
    },
    {
      "cell_type": "code",
      "source": [
        "llm_config = {\"config_list\": [{\n",
        "    \"model\": \"gpt-4o-mini\",  # This should match your Azure deployment name\n",
        "    \"api_key\": \"API_KEY\",\n",
        "    \"base_url\": \"BASE_URL\",\n",
        "    \"api_type\": \"azure\",\n",
        "    \"api_version\": \"2024-08-01-preview\",\n",
        "    \"temperature\": 0.8\n",
        "}]}"
      ],
      "metadata": {
        "id": "jxV5pJZOSj3M"
      },
      "execution_count": null,
      "outputs": []
    },
    {
      "cell_type": "markdown",
      "source": [
        "# Agente GameMaster"
      ],
      "metadata": {
        "id": "6nljOxDlMWud"
      }
    },
    {
      "cell_type": "code",
      "source": [],
      "metadata": {
        "id": "8MBvMEHyMZgY"
      },
      "execution_count": null,
      "outputs": []
    }
  ],
  "metadata": {
    "kernelspec": {
      "display_name": "Python 3",
      "language": "python",
      "name": "python3"
    },
    "language_info": {
      "codemirror_mode": {
        "name": "ipython",
        "version": 3
      },
      "file_extension": ".py",
      "mimetype": "text/x-python",
      "name": "python",
      "nbconvert_exporter": "python",
      "pygments_lexer": "ipython3",
      "version": "3.8.10"
    },
    "colab": {
      "provenance": [],
      "toc_visible": true,
      "include_colab_link": true
    }
  },
  "nbformat": 4,
  "nbformat_minor": 0
}