{
  "cells": [
    {
      "cell_type": "markdown",
      "metadata": {
        "id": "view-in-github",
        "colab_type": "text"
      },
      "source": [
        "<a href=\"https://colab.research.google.com/github/ernesto-butto/ag2-workshop-simulation/blob/main/main.ipynb\" target=\"_parent\"><img src=\"https://colab.research.google.com/assets/colab-badge.svg\" alt=\"Open In Colab\"/></a>"
      ]
    },
    {
      "cell_type": "markdown",
      "source": [
        "\n",
        "- Phase 1: Scenario Generation Agents\n",
        "- Phase 2: Running the Scenario with a Game Master\n",
        "- Phase 3: Live Playtesting\n",
        "- Phase 4: AI Feedback Agent (Optional)"
      ],
      "metadata": {
        "id": "edi_0rlTVBgh"
      }
    },
    {
      "cell_type": "markdown",
      "source": [
        "Instalar AG2\n",
        "https://docs.ag2.ai/docs/home/quick-start"
      ],
      "metadata": {
        "id": "JhsgL7J7PpXe"
      }
    },
    {
      "cell_type": "code",
      "execution_count": 22,
      "metadata": {
        "colab": {
          "base_uri": "https://localhost:8080/"
        },
        "collapsed": true,
        "id": "hello-world-cell",
        "outputId": "aa29afbc-208b-4617-f12e-6c82c4295d5f"
      },
      "outputs": [
        {
          "output_type": "stream",
          "name": "stdout",
          "text": [
            "Requirement already satisfied: ag2 in /usr/local/lib/python3.11/dist-packages (0.7.4)\n",
            "Requirement already satisfied: pyautogen==0.7.4 in /usr/local/lib/python3.11/dist-packages (from ag2) (0.7.4)\n",
            "Requirement already satisfied: asyncer==0.0.8 in /usr/local/lib/python3.11/dist-packages (from pyautogen==0.7.4->ag2) (0.0.8)\n",
            "Requirement already satisfied: diskcache in /usr/local/lib/python3.11/dist-packages (from pyautogen==0.7.4->ag2) (5.6.3)\n",
            "Requirement already satisfied: docker in /usr/local/lib/python3.11/dist-packages (from pyautogen==0.7.4->ag2) (7.1.0)\n",
            "Requirement already satisfied: fast-depends<3,>=2.4.12 in /usr/local/lib/python3.11/dist-packages (from pyautogen==0.7.4->ag2) (2.4.12)\n",
            "Requirement already satisfied: numpy in /usr/local/lib/python3.11/dist-packages (from pyautogen==0.7.4->ag2) (1.26.4)\n",
            "Requirement already satisfied: openai>=1.58 in /usr/local/lib/python3.11/dist-packages (from pyautogen==0.7.4->ag2) (1.61.1)\n",
            "Requirement already satisfied: packaging in /usr/local/lib/python3.11/dist-packages (from pyautogen==0.7.4->ag2) (24.2)\n",
            "Requirement already satisfied: pydantic<3,>=2.6.1 in /usr/local/lib/python3.11/dist-packages (from pyautogen==0.7.4->ag2) (2.10.6)\n",
            "Requirement already satisfied: python-dotenv in /usr/local/lib/python3.11/dist-packages (from pyautogen==0.7.4->ag2) (1.0.1)\n",
            "Requirement already satisfied: termcolor in /usr/local/lib/python3.11/dist-packages (from pyautogen==0.7.4->ag2) (2.5.0)\n",
            "Requirement already satisfied: tiktoken in /usr/local/lib/python3.11/dist-packages (from pyautogen==0.7.4->ag2) (0.9.0)\n",
            "Requirement already satisfied: websockets<15,>=14 in /usr/local/lib/python3.11/dist-packages (from pyautogen==0.7.4->ag2) (14.2)\n",
            "Requirement already satisfied: anyio<5.0,>=3.4.0 in /usr/local/lib/python3.11/dist-packages (from asyncer==0.0.8->pyautogen==0.7.4->ag2) (3.7.1)\n",
            "Requirement already satisfied: distro<2,>=1.7.0 in /usr/local/lib/python3.11/dist-packages (from openai>=1.58->pyautogen==0.7.4->ag2) (1.9.0)\n",
            "Requirement already satisfied: httpx<1,>=0.23.0 in /usr/local/lib/python3.11/dist-packages (from openai>=1.58->pyautogen==0.7.4->ag2) (0.28.1)\n",
            "Requirement already satisfied: jiter<1,>=0.4.0 in /usr/local/lib/python3.11/dist-packages (from openai>=1.58->pyautogen==0.7.4->ag2) (0.8.2)\n",
            "Requirement already satisfied: sniffio in /usr/local/lib/python3.11/dist-packages (from openai>=1.58->pyautogen==0.7.4->ag2) (1.3.1)\n",
            "Requirement already satisfied: tqdm>4 in /usr/local/lib/python3.11/dist-packages (from openai>=1.58->pyautogen==0.7.4->ag2) (4.67.1)\n",
            "Requirement already satisfied: typing-extensions<5,>=4.11 in /usr/local/lib/python3.11/dist-packages (from openai>=1.58->pyautogen==0.7.4->ag2) (4.12.2)\n",
            "Requirement already satisfied: annotated-types>=0.6.0 in /usr/local/lib/python3.11/dist-packages (from pydantic<3,>=2.6.1->pyautogen==0.7.4->ag2) (0.7.0)\n",
            "Requirement already satisfied: pydantic-core==2.27.2 in /usr/local/lib/python3.11/dist-packages (from pydantic<3,>=2.6.1->pyautogen==0.7.4->ag2) (2.27.2)\n",
            "Requirement already satisfied: requests>=2.26.0 in /usr/local/lib/python3.11/dist-packages (from docker->pyautogen==0.7.4->ag2) (2.32.3)\n",
            "Requirement already satisfied: urllib3>=1.26.0 in /usr/local/lib/python3.11/dist-packages (from docker->pyautogen==0.7.4->ag2) (2.3.0)\n",
            "Requirement already satisfied: regex>=2022.1.18 in /usr/local/lib/python3.11/dist-packages (from tiktoken->pyautogen==0.7.4->ag2) (2024.11.6)\n",
            "Requirement already satisfied: idna>=2.8 in /usr/local/lib/python3.11/dist-packages (from anyio<5.0,>=3.4.0->asyncer==0.0.8->pyautogen==0.7.4->ag2) (3.10)\n",
            "Requirement already satisfied: certifi in /usr/local/lib/python3.11/dist-packages (from httpx<1,>=0.23.0->openai>=1.58->pyautogen==0.7.4->ag2) (2025.1.31)\n",
            "Requirement already satisfied: httpcore==1.* in /usr/local/lib/python3.11/dist-packages (from httpx<1,>=0.23.0->openai>=1.58->pyautogen==0.7.4->ag2) (1.0.7)\n",
            "Requirement already satisfied: h11<0.15,>=0.13 in /usr/local/lib/python3.11/dist-packages (from httpcore==1.*->httpx<1,>=0.23.0->openai>=1.58->pyautogen==0.7.4->ag2) (0.14.0)\n",
            "Requirement already satisfied: charset-normalizer<4,>=2 in /usr/local/lib/python3.11/dist-packages (from requests>=2.26.0->docker->pyautogen==0.7.4->ag2) (3.4.1)\n"
          ]
        }
      ],
      "source": [
        "!pip install ag2"
      ]
    },
    {
      "cell_type": "markdown",
      "source": [
        "Setup"
      ],
      "metadata": {
        "id": "TtxjOwvgUzTz"
      }
    },
    {
      "cell_type": "code",
      "source": [
        "# 1. Import our agent class\n",
        "from autogen import ConversableAgent\n",
        "from pprint import pprint\n",
        "\n",
        "# Surpress warnings\n",
        "import warnings\n",
        "warnings.filterwarnings(\"ignore\")\n"
      ],
      "metadata": {
        "id": "wCZ1ZkZ9QH_E"
      },
      "execution_count": 23,
      "outputs": []
    },
    {
      "cell_type": "code",
      "source": [
        "llm_config = {\"config_list\": [{\n",
        "    \"model\": \"gpt-4o-mini\",  # This should match your Azure deployment name\n",
        "    \"api_key\": \"0d20814cba1242d39825274ccd99d2e5\",\n",
        "    \"base_url\": \"https://ai-ernestobuttoai916354951815.services.ai.azure.com/\",\n",
        "    \"api_type\": \"azure\",\n",
        "    \"api_version\": \"2024-08-01-preview\",\n",
        "    \"temperature\": 0.8\n",
        "}]}"
      ],
      "metadata": {
        "id": "jxV5pJZOSj3M"
      },
      "execution_count": 45,
      "outputs": []
    },
    {
      "cell_type": "markdown",
      "source": [
        "# Phase 1: Scenario Generation Agents\n",
        "🔹 **Attendees Build:**\n",
        "\n",
        "- **(A) Scenario Creation Agent** → Generates a simulation scenario.\n",
        "- **(B) Mocked User Agent** → Simulates a user providing input for scenario generation.\n",
        "\n",
        "🔹 **Simulation I (Test Run)**\n",
        "\n",
        "- A & B **interact automatically** → Produces a detailed scenario.\n",
        "- Attendees analyze the **output** to understand if it’s coherent and engaging."
      ],
      "metadata": {
        "id": "qP69YKlwU6RW"
      }
    },
    {
      "cell_type": "code",
      "source": [
        "fin_de_conversacion_keyword = \"FIN_ESCENARIO\""
      ],
      "metadata": {
        "id": "1VTgZdJhZ5XJ"
      },
      "execution_count": 46,
      "outputs": []
    },
    {
      "cell_type": "code",
      "source": [
        "def createScenarioCreationAgent():\n",
        "\n",
        "  return ConversableAgent(\n",
        "      name=\"scenario_creation_agent\",\n",
        "      llm_config=llm_config,\n",
        "      code_execution_config=False,\n",
        "      human_input_mode=\"NEVER\",\n",
        "      system_message=f\"\"\"\n",
        "      Eres un creador de escenarios para simulaciones conversacionales 1 a 1.\n",
        "      Tu objetivo es ayudar a los estudiantes a crear escenarios de juegos de roles para practicar habilidades basado en sus hobbies e intereses.\n",
        "      Explicale tu objetivo al estudiante que te salude, y hazle preguntas sobre:\n",
        "\n",
        "      1. Que habilidades quiere practicar\n",
        "      2. Algún interes o hobby para crear un escenario que pueda relacionar\n",
        "\n",
        "      Algunos puntos a tomar en cuenta:\n",
        "      - El escenario debe de ser cortos, y con un objetivo claro, que para lograrlo debe conversar con otra persona.\n",
        "      - Una vez tengas la información necesaria, genera un escenario y preguntale al estudiante si está deacuerdo\n",
        "      - Itera con el usuario, cuando se llegue a un escenario que le guste, escribe todo el escenario, terminado la conversación con el término: {fin_de_conversacion_keyword}\n",
        "      - Nunca empiezes el escenario, siempre termina la conversación con {fin_de_conversacion_keyword} cuando el escenario esté listo.\n",
        "\n",
        "      \"\"\",\n",
        "      is_termination_msg=lambda msg: fin_de_conversacion_keyword in msg[\"content\"],\n",
        "  )\n"
      ],
      "metadata": {
        "id": "ncOoGXnYQN9N"
      },
      "execution_count": 47,
      "outputs": []
    },
    {
      "cell_type": "code",
      "source": [
        "def mockedUserAgent(skill, hobby):\n",
        "  return ConversableAgent(\n",
        "        \"mocked_student\",\n",
        "        llm_config=llm_config,\n",
        "        human_input_mode=\"NEVER\",  # always ask for human input\n",
        "        system_message=f\"You are a student learning {skill}, and you like {hobby}\",\n",
        "        code_execution_config=False,\n",
        "        is_termination_msg=lambda msg: fin_de_conversacion_keyword in msg[\"content\"],\n",
        "    )"
      ],
      "metadata": {
        "id": "3AZr1ObAV1MK"
      },
      "execution_count": 48,
      "outputs": []
    },
    {
      "cell_type": "code",
      "source": [
        "creador = createScenarioCreationAgent()\n",
        "estudiante = mockedUserAgent(\"Negotiation\", \"90's pop music\")\n",
        "chat_result = estudiante.initiate_chat(\n",
        "    creador,\n",
        "    message=\"Hola!\",\n",
        "    max_turns=12,\n",
        "    summary_method=\"reflection_with_llm\",\n",
        "    summary_prompt=\"Escribe el escenario en Español\"\n",
        ")\n"
      ],
      "metadata": {
        "id": "SHz0VcsiQ6IA",
        "outputId": "dcdd9acb-0acd-41e3-809c-0e8d5c901293",
        "colab": {
          "base_uri": "https://localhost:8080/"
        },
        "collapsed": true
      },
      "execution_count": 49,
      "outputs": [
        {
          "output_type": "stream",
          "name": "stdout",
          "text": [
            "mocked_student (to scenario_creation_agent):\n",
            "\n",
            "Hola!\n",
            "\n",
            "--------------------------------------------------------------------------------\n",
            "scenario_creation_agent (to mocked_student):\n",
            "\n",
            "¡Hola! Soy un creador de escenarios para simulaciones conversacionales. Mi objetivo es ayudarte a practicar habilidades a través de juegos de roles, basándome en tus intereses y hobbies. \n",
            "\n",
            "Para comenzar, ¿qué habilidades te gustaría practicar? Y también, ¿tienes algún interés o hobby que te gustaría que vinculáramos al escenario?\n",
            "\n",
            "--------------------------------------------------------------------------------\n",
            "mocked_student (to scenario_creation_agent):\n",
            "\n",
            "¡Hola! Me gustaría practicar habilidades de negociación. Como me gusta la música pop de los 90, podríamos crear un escenario en el que esté negociando con un amigo sobre el reparto de canciones para una fiesta temática de los 90. ¿Te parece bien?\n",
            "\n",
            "--------------------------------------------------------------------------------\n",
            "scenario_creation_agent (to mocked_student):\n",
            "\n",
            "¡Eso suena genial! La música pop de los 90 es un tema divertido para un escenario de negociación. Entonces, para aclarar un poco más, ¿cuál sería el objetivo de la negociación? ¿Quieres asegurarte de tener algunas canciones específicas en la lista de reproducción, o tal vez negociar el número de canciones que cada uno puede elegir? ¿O hay algo más que te gustaría incluir en la conversación?\n",
            "\n",
            "--------------------------------------------------------------------------------\n",
            "mocked_student (to scenario_creation_agent):\n",
            "\n",
            "Me gustaría negociar el número de canciones que cada uno puede elegir, además de asegurarme de que algunas de mis canciones favoritas de los 90 estén en la lista. También podríamos incluir la idea de turnarnos para seleccionar canciones, así que podría ser un buen punto de negociación. ¿Te parece bien?\n",
            "\n",
            "--------------------------------------------------------------------------------\n",
            "scenario_creation_agent (to mocked_student):\n",
            "\n",
            "¡Perfecto! Entonces, el escenario sería el siguiente:\n",
            "\n",
            "**Escenario de Negociación: Fiesta Temática de los 90**\n",
            "\n",
            "Tú y tu amigo están organizando una fiesta temática de los años 90, y es momento de decidir el reparto de las canciones para la lista de reproducción. El objetivo de la negociación es acordar cuántas canciones podrá seleccionar cada uno y asegurarte de que tus canciones favoritas de esa época estén incluidas. Además, plantearás la idea de turnarse para elegir canciones, lo cual será un punto clave en la conversación.\n",
            "\n",
            "**Roles:**\n",
            "- Tú: Quieres elegir al menos 5 canciones de tus favoritas y proponer el turno para seleccionar canciones.\n",
            "- Amigo: Tiene algunas canciones en mente y quizá también quiere asegurar su selección.\n",
            "\n",
            "¿Te parece bien este escenario? ¿Hay algo más que te gustaría agregar o ajustar?\n",
            "\n",
            "--------------------------------------------------------------------------------\n",
            "mocked_student (to scenario_creation_agent):\n",
            "\n",
            "¡Me parece perfecto! Estoy listo para asumir mi papel. Solo para aclarar, mi amigo podría estar interesado en elegir algunas canciones populares, así que tendré que estar preparado para escuchar sus propuestas también. ¡Vamos a hacerlo!\n",
            "\n",
            "--------------------------------------------------------------------------------\n",
            "scenario_creation_agent (to mocked_student):\n",
            "\n",
            "¡Genial! Aquí tienes el escenario final:\n",
            "\n",
            "**Escenario de Negociación: Fiesta Temática de los 90**\n",
            "\n",
            "Tú y tu amigo están organizando una fiesta temática de los años 90. Es hora de decidir la lista de reproducción y llegar a un acuerdo sobre el reparto de las canciones. \n",
            "\n",
            "**Roles:**\n",
            "- **Tú:** Quieres elegir al menos 5 canciones de tus favoritas de los 90. Además, propondrás que se turnen para seleccionar canciones, asegurando que ambos tengan la oportunidad de elegir.\n",
            "- **Amigo:** Está interesado en elegir algunas canciones populares de los 90 y querrá asegurarse de que sus elecciones también estén en la lista.\n",
            "\n",
            "**Objetivo de la Negociación:** Acordar cuántas canciones puede elegir cada uno, asegurarte de que tus canciones favoritas estén en la lista y discutir la idea de turnarse para seleccionar canciones.\n",
            "\n",
            "¡Listo! Ahora puedes practicar este escenario. ¡Diviértete con la negociación!\n",
            "\n",
            "FIN_ESCENARIO\n",
            "\n",
            "--------------------------------------------------------------------------------\n"
          ]
        }
      ]
    },
    {
      "cell_type": "code",
      "source": [
        "\n",
        "print(\"HISTORY\")\n",
        "print(chat_result.chat_history)\n",
        "print()\n",
        "\n",
        "print(\"SUMMARY\")\n",
        "pprint(chat_result.summary)\n",
        "print()\n",
        "\n",
        "print(\"COST\")\n",
        "pprint(chat_result.cost)\n",
        "print()"
      ],
      "metadata": {
        "id": "_Al5KdlF2lWG",
        "outputId": "34c8e686-370f-43e0-8978-5f68c40d1603",
        "colab": {
          "base_uri": "https://localhost:8080/"
        }
      },
      "execution_count": 50,
      "outputs": [
        {
          "output_type": "stream",
          "name": "stdout",
          "text": [
            "HISTORY\n",
            "[{'content': 'Hola!', 'role': 'assistant', 'name': 'mocked_student'}, {'content': '¡Hola! Soy un creador de escenarios para simulaciones conversacionales. Mi objetivo es ayudarte a practicar habilidades a través de juegos de roles, basándome en tus intereses y hobbies. \\n\\nPara comenzar, ¿qué habilidades te gustaría practicar? Y también, ¿tienes algún interés o hobby que te gustaría que vinculáramos al escenario?', 'role': 'user', 'name': 'scenario_creation_agent'}, {'content': '¡Hola! Me gustaría practicar habilidades de negociación. Como me gusta la música pop de los 90, podríamos crear un escenario en el que esté negociando con un amigo sobre el reparto de canciones para una fiesta temática de los 90. ¿Te parece bien?', 'role': 'assistant', 'name': 'mocked_student'}, {'content': '¡Eso suena genial! La música pop de los 90 es un tema divertido para un escenario de negociación. Entonces, para aclarar un poco más, ¿cuál sería el objetivo de la negociación? ¿Quieres asegurarte de tener algunas canciones específicas en la lista de reproducción, o tal vez negociar el número de canciones que cada uno puede elegir? ¿O hay algo más que te gustaría incluir en la conversación?', 'role': 'user', 'name': 'scenario_creation_agent'}, {'content': 'Me gustaría negociar el número de canciones que cada uno puede elegir, además de asegurarme de que algunas de mis canciones favoritas de los 90 estén en la lista. También podríamos incluir la idea de turnarnos para seleccionar canciones, así que podría ser un buen punto de negociación. ¿Te parece bien?', 'role': 'assistant', 'name': 'mocked_student'}, {'content': '¡Perfecto! Entonces, el escenario sería el siguiente:\\n\\n**Escenario de Negociación: Fiesta Temática de los 90**\\n\\nTú y tu amigo están organizando una fiesta temática de los años 90, y es momento de decidir el reparto de las canciones para la lista de reproducción. El objetivo de la negociación es acordar cuántas canciones podrá seleccionar cada uno y asegurarte de que tus canciones favoritas de esa época estén incluidas. Además, plantearás la idea de turnarse para elegir canciones, lo cual será un punto clave en la conversación.\\n\\n**Roles:**\\n- Tú: Quieres elegir al menos 5 canciones de tus favoritas y proponer el turno para seleccionar canciones.\\n- Amigo: Tiene algunas canciones en mente y quizá también quiere asegurar su selección.\\n\\n¿Te parece bien este escenario? ¿Hay algo más que te gustaría agregar o ajustar?', 'role': 'user', 'name': 'scenario_creation_agent'}, {'content': '¡Me parece perfecto! Estoy listo para asumir mi papel. Solo para aclarar, mi amigo podría estar interesado en elegir algunas canciones populares, así que tendré que estar preparado para escuchar sus propuestas también. ¡Vamos a hacerlo!', 'role': 'assistant', 'name': 'mocked_student'}, {'content': '¡Genial! Aquí tienes el escenario final:\\n\\n**Escenario de Negociación: Fiesta Temática de los 90**\\n\\nTú y tu amigo están organizando una fiesta temática de los años 90. Es hora de decidir la lista de reproducción y llegar a un acuerdo sobre el reparto de las canciones. \\n\\n**Roles:**\\n- **Tú:** Quieres elegir al menos 5 canciones de tus favoritas de los 90. Además, propondrás que se turnen para seleccionar canciones, asegurando que ambos tengan la oportunidad de elegir.\\n- **Amigo:** Está interesado en elegir algunas canciones populares de los 90 y querrá asegurarse de que sus elecciones también estén en la lista.\\n\\n**Objetivo de la Negociación:** Acordar cuántas canciones puede elegir cada uno, asegurarte de que tus canciones favoritas estén en la lista y discutir la idea de turnarse para seleccionar canciones.\\n\\n¡Listo! Ahora puedes practicar este escenario. ¡Diviértete con la negociación!\\n\\nFIN_ESCENARIO', 'role': 'user', 'name': 'scenario_creation_agent'}]\n",
            "\n",
            "SUMMARY\n",
            "('The conversation involved creating a role-playing scenario for practicing '\n",
            " 'negotiation skills, centered around organizing a 90s themed party. The key '\n",
            " 'points included agreeing on the number of songs each person can choose, '\n",
            " 'ensuring favorite songs are included, and discussing the idea of taking '\n",
            " \"turns selecting songs. The participant prepared to listen to their friend's \"\n",
            " 'proposals while advocating for their own preferences.')\n",
            "\n",
            "COST\n",
            "{'usage_excluding_cached_inference': {'gpt-4o-mini-2024-07-18': {'completion_tokens': 772,\n",
            "                                                                 'cost': 0.00099705,\n",
            "                                                                 'prompt_tokens': 3559,\n",
            "                                                                 'total_tokens': 4331},\n",
            "                                      'total_cost': 0.00099705},\n",
            " 'usage_including_cached_inference': {'gpt-4o-mini-2024-07-18': {'completion_tokens': 772,\n",
            "                                                                 'cost': 0.00099705,\n",
            "                                                                 'prompt_tokens': 3559,\n",
            "                                                                 'total_tokens': 4331},\n",
            "                                      'total_cost': 0.00099705}}\n",
            "\n"
          ]
        }
      ]
    },
    {
      "cell_type": "code",
      "source": [],
      "metadata": {
        "id": "-XrdAk9A238I"
      },
      "execution_count": 50,
      "outputs": []
    },
    {
      "cell_type": "code",
      "source": [],
      "metadata": {
        "id": "L6rXwRaW2zSS"
      },
      "execution_count": 50,
      "outputs": []
    }
  ],
  "metadata": {
    "kernelspec": {
      "display_name": "Python 3",
      "language": "python",
      "name": "python3"
    },
    "language_info": {
      "codemirror_mode": {
        "name": "ipython",
        "version": 3
      },
      "file_extension": ".py",
      "mimetype": "text/x-python",
      "name": "python",
      "nbconvert_exporter": "python",
      "pygments_lexer": "ipython3",
      "version": "3.8.10"
    },
    "colab": {
      "provenance": [],
      "include_colab_link": true
    }
  },
  "nbformat": 4,
  "nbformat_minor": 0
}