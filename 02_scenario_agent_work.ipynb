{
  "cells": [
    {
      "cell_type": "markdown",
      "metadata": {
        "id": "view-in-github",
        "colab_type": "text"
      },
      "source": [
        "<a href=\"https://colab.research.google.com/github/ernesto-butto/ag2-workshop-simulation/blob/main/02_scenario_agent_work.ipynb\" target=\"_parent\"><img src=\"https://colab.research.google.com/assets/colab-badge.svg\" alt=\"Open In Colab\"/></a>"
      ]
    },
    {
      "cell_type": "markdown",
      "source": [
        "# 🏗️ **Requerimientos para el Agente Creador de Escenarios**\n",
        "## 🚀 Objetivo:\n",
        "Vas a construir un **Agente Creador de Escenarios** que genere simulaciones conversacionales 1 a 1 para practicar habilidades en contexto de temas de interés para el aprendiz.\n",
        "\n",
        "## 📌 **Ideas y Consejos para crear el Agente**\n",
        "1. **Debe preguntar al usuario**:\n",
        "   - ¿Qué habilidades quiere practicar?\n",
        "   - ¿Tiene algún hobby o interés para personalizar el escenario?\n",
        "   \n",
        "2. **Debe generar un escenario con**:\n",
        "   - **Título:** Un título claro para la simulación.\n",
        "   - **Objetivo:** Un propósito bien definido.\n",
        "   - **Contexto:** Breve descripción de la situación.\n",
        "   - **Roles:** Dos roles definidos (Usuario + Otro personaje).\n",
        "\n",
        "3. **Como el Agente interactua con el usuario**:\n",
        "   - Confirmar si el escenario es adecuado, si no ajustar hasta que el usuario esté satisfecho.\n",
        "   - Cuando el escenario esté listo, finalizar con la palabra clave: `FIN_ESCENARIO`.\n",
        "\n",
        "4. **Itera el prompt simulando con un usuario simulado**:\n",
        "   - Implementar un agente que actúe como un estudiante ficticio.\n",
        "   - Simular una conversación entre el agente y el usuario.\n",
        "   - Revisa y mejora el prompt de ambos, puedes cambiar gustos y personalidad del aprendiz.\n",
        "\n",
        "5. **Pruébalo tu**:\n",
        "   - Ahora que has iterado, prueba el Agente tú mism@\n"
      ],
      "metadata": {
        "id": "FpGcjZnJwLE6"
      }
    },
    {
      "cell_type": "markdown",
      "source": [
        "# Setup"
      ],
      "metadata": {
        "id": "TtxjOwvgUzTz"
      }
    },
    {
      "cell_type": "code",
      "execution_count": null,
      "metadata": {
        "colab": {
          "base_uri": "https://localhost:8080/"
        },
        "collapsed": true,
        "id": "hello-world-cell",
        "outputId": "9e339d7a-9cd9-49cb-a502-18ed90386cad"
      },
      "outputs": [
        {
          "output_type": "stream",
          "name": "stdout",
          "text": [
            "Requirement already satisfied: ag2 in /usr/local/lib/python3.11/dist-packages (0.7.4)\n",
            "Requirement already satisfied: pyautogen==0.7.4 in /usr/local/lib/python3.11/dist-packages (from ag2) (0.7.4)\n",
            "Requirement already satisfied: asyncer==0.0.8 in /usr/local/lib/python3.11/dist-packages (from pyautogen==0.7.4->ag2) (0.0.8)\n",
            "Requirement already satisfied: diskcache in /usr/local/lib/python3.11/dist-packages (from pyautogen==0.7.4->ag2) (5.6.3)\n",
            "Requirement already satisfied: docker in /usr/local/lib/python3.11/dist-packages (from pyautogen==0.7.4->ag2) (7.1.0)\n",
            "Requirement already satisfied: fast-depends<3,>=2.4.12 in /usr/local/lib/python3.11/dist-packages (from pyautogen==0.7.4->ag2) (2.4.12)\n",
            "Requirement already satisfied: numpy in /usr/local/lib/python3.11/dist-packages (from pyautogen==0.7.4->ag2) (1.26.4)\n",
            "Requirement already satisfied: openai>=1.58 in /usr/local/lib/python3.11/dist-packages (from pyautogen==0.7.4->ag2) (1.61.1)\n",
            "Requirement already satisfied: packaging in /usr/local/lib/python3.11/dist-packages (from pyautogen==0.7.4->ag2) (24.2)\n",
            "Requirement already satisfied: pydantic<3,>=2.6.1 in /usr/local/lib/python3.11/dist-packages (from pyautogen==0.7.4->ag2) (2.10.6)\n",
            "Requirement already satisfied: python-dotenv in /usr/local/lib/python3.11/dist-packages (from pyautogen==0.7.4->ag2) (1.0.1)\n",
            "Requirement already satisfied: termcolor in /usr/local/lib/python3.11/dist-packages (from pyautogen==0.7.4->ag2) (2.5.0)\n",
            "Requirement already satisfied: tiktoken in /usr/local/lib/python3.11/dist-packages (from pyautogen==0.7.4->ag2) (0.9.0)\n",
            "Requirement already satisfied: websockets<15,>=14 in /usr/local/lib/python3.11/dist-packages (from pyautogen==0.7.4->ag2) (14.2)\n",
            "Requirement already satisfied: anyio<5.0,>=3.4.0 in /usr/local/lib/python3.11/dist-packages (from asyncer==0.0.8->pyautogen==0.7.4->ag2) (3.7.1)\n",
            "Requirement already satisfied: distro<2,>=1.7.0 in /usr/local/lib/python3.11/dist-packages (from openai>=1.58->pyautogen==0.7.4->ag2) (1.9.0)\n",
            "Requirement already satisfied: httpx<1,>=0.23.0 in /usr/local/lib/python3.11/dist-packages (from openai>=1.58->pyautogen==0.7.4->ag2) (0.28.1)\n",
            "Requirement already satisfied: jiter<1,>=0.4.0 in /usr/local/lib/python3.11/dist-packages (from openai>=1.58->pyautogen==0.7.4->ag2) (0.8.2)\n",
            "Requirement already satisfied: sniffio in /usr/local/lib/python3.11/dist-packages (from openai>=1.58->pyautogen==0.7.4->ag2) (1.3.1)\n",
            "Requirement already satisfied: tqdm>4 in /usr/local/lib/python3.11/dist-packages (from openai>=1.58->pyautogen==0.7.4->ag2) (4.67.1)\n",
            "Requirement already satisfied: typing-extensions<5,>=4.11 in /usr/local/lib/python3.11/dist-packages (from openai>=1.58->pyautogen==0.7.4->ag2) (4.12.2)\n",
            "Requirement already satisfied: annotated-types>=0.6.0 in /usr/local/lib/python3.11/dist-packages (from pydantic<3,>=2.6.1->pyautogen==0.7.4->ag2) (0.7.0)\n",
            "Requirement already satisfied: pydantic-core==2.27.2 in /usr/local/lib/python3.11/dist-packages (from pydantic<3,>=2.6.1->pyautogen==0.7.4->ag2) (2.27.2)\n",
            "Requirement already satisfied: requests>=2.26.0 in /usr/local/lib/python3.11/dist-packages (from docker->pyautogen==0.7.4->ag2) (2.32.3)\n",
            "Requirement already satisfied: urllib3>=1.26.0 in /usr/local/lib/python3.11/dist-packages (from docker->pyautogen==0.7.4->ag2) (2.3.0)\n",
            "Requirement already satisfied: regex>=2022.1.18 in /usr/local/lib/python3.11/dist-packages (from tiktoken->pyautogen==0.7.4->ag2) (2024.11.6)\n",
            "Requirement already satisfied: idna>=2.8 in /usr/local/lib/python3.11/dist-packages (from anyio<5.0,>=3.4.0->asyncer==0.0.8->pyautogen==0.7.4->ag2) (3.10)\n",
            "Requirement already satisfied: certifi in /usr/local/lib/python3.11/dist-packages (from httpx<1,>=0.23.0->openai>=1.58->pyautogen==0.7.4->ag2) (2025.1.31)\n",
            "Requirement already satisfied: httpcore==1.* in /usr/local/lib/python3.11/dist-packages (from httpx<1,>=0.23.0->openai>=1.58->pyautogen==0.7.4->ag2) (1.0.7)\n",
            "Requirement already satisfied: h11<0.15,>=0.13 in /usr/local/lib/python3.11/dist-packages (from httpcore==1.*->httpx<1,>=0.23.0->openai>=1.58->pyautogen==0.7.4->ag2) (0.14.0)\n",
            "Requirement already satisfied: charset-normalizer<4,>=2 in /usr/local/lib/python3.11/dist-packages (from requests>=2.26.0->docker->pyautogen==0.7.4->ag2) (3.4.1)\n"
          ]
        }
      ],
      "source": [
        "!pip install ag2"
      ]
    },
    {
      "cell_type": "code",
      "source": [
        "# 1. Import our agent class\n",
        "from autogen import ConversableAgent, UserProxyAgent\n",
        "from pprint import pprint\n",
        "\n",
        "# Surpress warnings\n",
        "import warnings\n",
        "warnings.filterwarnings(\"ignore\")\n"
      ],
      "metadata": {
        "id": "wCZ1ZkZ9QH_E"
      },
      "execution_count": null,
      "outputs": []
    },
    {
      "cell_type": "code",
      "source": [
        "llm_config = {\"config_list\": [{\n",
        "    \"model\": \"gpt-4o-mini\",  # This should match your Azure deployment name\n",
        "    \"api_key\": \"0d20814cba1242d39825274ccd99d2e5\",\n",
        "    \"base_url\": \"https://ai-ernestobuttoai916354951815.services.ai.azure.com\",\n",
        "    \"api_type\": \"azure\",\n",
        "    \"api_version\": \"2024-08-01-preview\",\n",
        "    \"temperature\": 0.8\n",
        "}]}"
      ],
      "metadata": {
        "id": "jxV5pJZOSj3M"
      },
      "execution_count": null,
      "outputs": []
    },
    {
      "cell_type": "markdown",
      "source": [
        "# Agente Creador de Escenarios\n",
        "🔹 **Attendees Build:**\n",
        "\n",
        "- **(A) Scenario Creation Agent** → Generates a simulation scenario.\n",
        "- **(B) Mocked User Agent** → Simulates a user providing input for scenario generation.\n"
      ],
      "metadata": {
        "id": "qP69YKlwU6RW"
      }
    },
    {
      "cell_type": "code",
      "source": [
        "fin_de_conversacion_keyword = \"FIN_ESCENARIO\""
      ],
      "metadata": {
        "id": "1VTgZdJhZ5XJ"
      },
      "execution_count": null,
      "outputs": []
    },
    {
      "cell_type": "code",
      "source": [
        "def createScenarioCreationAgent():\n",
        "\n",
        "  return ConversableAgent(\n",
        "      name=\"scenario_creation_agent\",\n",
        "      llm_config=llm_config,\n",
        "      code_execution_config=False,\n",
        "      human_input_mode=\"NEVER\",\n",
        "      system_message=f\"\"\"\n",
        "              🚀 TU TAREA:\n",
        "        - Define el **mensaje del sistema** para el Agente.\n",
        "        - ¿Cómo debe interactuar con el usuario?\n",
        "        - ¿Qué preguntas debe hacer antes de generar el escenario para guiar al usuario?\n",
        "        - ¿Que hacer cuando se tenga el escenario para terminar la conversación?\n",
        "      \"\"\",\n",
        "      is_termination_msg=lambda msg: fin_de_conversacion_keyword in msg[\"content\"],\n",
        "  )\n"
      ],
      "metadata": {
        "id": "ncOoGXnYQN9N"
      },
      "execution_count": null,
      "outputs": []
    },
    {
      "cell_type": "code",
      "source": [
        "def mockedUserAgent(skill, hobby):\n",
        "  return ConversableAgent(\n",
        "        \"mocked_student\",\n",
        "        llm_config=llm_config,\n",
        "        human_input_mode=\"NEVER\",  # always ask for human input\n",
        "        system_message=f\"Pormpt para el usuario simulado\",\n",
        "        code_execution_config=False,\n",
        "        is_termination_msg=lambda msg: fin_de_conversacion_keyword in msg[\"content\"],\n",
        "    )"
      ],
      "metadata": {
        "id": "3AZr1ObAV1MK"
      },
      "execution_count": null,
      "outputs": []
    },
    {
      "cell_type": "markdown",
      "source": [
        "# Simulacion estudiante simulado"
      ],
      "metadata": {
        "id": "5fFoWvNsjiT2"
      }
    },
    {
      "cell_type": "code",
      "source": [
        "creador_de_escenario = createScenarioCreationAgent()\n",
        "estudiante_simulado = mockedUserAgent(\"\", \"\")\n",
        "chat_result = estudiante_simulado.initiate_chat(\n",
        "    creador_de_escenario,\n",
        "    message=\"Hola!\",\n",
        "    max_turns=12,\n",
        "    summary_method=\"reflection_with_llm\",\n",
        "    summary_prompt=\"Escribe el escenario en Español\"\n",
        ")\n"
      ],
      "metadata": {
        "id": "SHz0VcsiQ6IA",
        "outputId": "8a23323b-9339-4632-8583-86b4313fc216",
        "colab": {
          "base_uri": "https://localhost:8080/"
        },
        "collapsed": true
      },
      "execution_count": null,
      "outputs": [
        {
          "output_type": "stream",
          "name": "stdout",
          "text": [
            "mocked_student (to scenario_creation_agent):\n",
            "\n",
            "Hola!\n",
            "\n",
            "--------------------------------------------------------------------------------\n",
            "scenario_creation_agent (to mocked_student):\n",
            "\n",
            "¡Hola! Bienvenido. Mi objetivo es ayudarte a crear escenarios de juegos de roles para que practiques habilidades específicas mientras te diviertes. \n",
            "\n",
            "Para comenzar, ¿qué habilidades te gustaría practicar? Además, ¿tienes algún interés o hobby que te gustaría incluir en el escenario?\n",
            "\n",
            "--------------------------------------------------------------------------------\n",
            "mocked_student (to scenario_creation_agent):\n",
            "\n",
            "Me gustaría practicar habilidades de negociación, especialmente en situaciones donde hay que llegar a un acuerdo. Además, sería genial incluir mi amor por la música pop de los 90 en el escenario. Podría ser algo relacionado con una banda o un concierto. ¡Estoy listo para divertirme y aprender!\n",
            "\n",
            "--------------------------------------------------------------------------------\n",
            "scenario_creation_agent (to mocked_student):\n",
            "\n",
            "¡Perfecto! La negociación en el contexto de la música pop de los 90 suena divertido. \n",
            "\n",
            "Aquí tienes algunas preguntas para definir mejor el escenario:\n",
            "\n",
            "1. ¿Te gustaría que el escenario se centre en negociar la compra de entradas para un concierto, o en algo diferente, como negociar un contrato con una banda para un evento?\n",
            "2. ¿Quieres que tu contrapartida sea un fanático también, un promotor de conciertos, o alguien más? \n",
            "\n",
            "Con estas respuestas, podré crear un escenario atractivo y divertido para ti.\n",
            "\n",
            "--------------------------------------------------------------------------------\n",
            "mocked_student (to scenario_creation_agent):\n",
            "\n",
            "1. Me gustaría que el escenario se centre en negociar la compra de entradas para un concierto.\n",
            "2. Quiero que mi contrapartida sea un promotor de conciertos. \n",
            "\n",
            "¡Estoy emocionado por ver cómo se desarrolla!\n",
            "\n",
            "--------------------------------------------------------------------------------\n",
            "scenario_creation_agent (to mocked_student):\n",
            "\n",
            "¡Genial! Aquí tienes el escenario basado en tus preferencias:\n",
            "\n",
            "**Título:** Negociando Entradas para el Concierto\n",
            "\n",
            "**Objetivo:** Lograr un acuerdo con el promotor de conciertos para obtener entradas a un precio razonable para un concierto de una famosa banda de pop de los 90.\n",
            "\n",
            "**Contexto:** Estás muy emocionado por el próximo concierto de una banda icónica de los años 90, pero has escuchado que las entradas son bastante caras. Decides reunirte con el promotor del evento para intentar negociar un mejor precio y conseguir un par de entradas.\n",
            "\n",
            "**Roles:**\n",
            "- **Usuario:** Eres un fanático apasionado de la música pop de los 90, que busca obtener entradas a un precio razonable.\n",
            "- **Contrapartida:** El promotor de conciertos, que quiere maximizar las ganancias, pero también tiene un interés en llenar el concierto y asegurar que los fans estén satisfechos.\n",
            "\n",
            "¿Te parece bien este escenario? Si necesitas algún ajuste, ¡házmelo saber!\n",
            "\n",
            "--------------------------------------------------------------------------------\n",
            "mocked_student (to scenario_creation_agent):\n",
            "\n",
            "¡Me parece perfecto! Estoy listo para asumir el papel de fanático y negociar con el promotor. Me gusta la idea de tratar de conseguir un buen trato mientras mantengo la emoción por el concierto. \n",
            "\n",
            "¿Podemos empezar con la negociación y quizás incluir algunos puntos específicos que me gustaría argumentar durante la conversación?\n",
            "\n",
            "--------------------------------------------------------------------------------\n",
            "scenario_creation_agent (to mocked_student):\n",
            "\n",
            "¡Me alegra que te guste el escenario! Claro, podemos incluir algunos puntos específicos que te gustaría argumentar durante la negociación. Aquí tienes algunas ideas:\n",
            "\n",
            "1. **Valor del Concierto:** Puedes argumentar que el valor emocional y la nostalgia de la banda de los 90 debería reflejarse en el precio de las entradas.\n",
            "2. **Experiencia de los Fans:** Puedes mencionar que un precio más accesible podría atraer a más fans y llenar el concierto, lo que beneficia al promotor.\n",
            "3. **Paquete de Entradas:** Proponer que si compras varias entradas, se podría ofrecer un descuento.\n",
            "4. **Promoción del Evento:** Sugerir que puedes ayudar a promover el concierto en tus redes sociales a cambio de un mejor precio.\n",
            "\n",
            "Si quieres agregar o modificar algún punto, ¡házmelo saber! Una vez que tengamos todo listo, confirmaremos el escenario. ¿Te parece bien esta lista de puntos?\n",
            "\n",
            "--------------------------------------------------------------------------------\n",
            "mocked_student (to scenario_creation_agent):\n",
            "\n",
            "¡Esa lista de puntos suena fantástica! Creo que cubren muy bien mis intereses como fanático. Aquí hay un par de ideas adicionales que podríamos incluir:\n",
            "\n",
            "5. **Lealtad a la Banda:** Puedo mencionar que he sido un seguidor leal de la banda desde los 90 y que he asistido a muchos de sus conciertos anteriores, lo que demuestra mi compromiso como fan.\n",
            "6. **Competencia de Otros Eventos:** Puedo señalar que hay otros eventos similares en la misma fecha y que un precio más atractivo podría hacer que el mío sea la opción preferida de los fans.\n",
            "\n",
            "Con estos puntos, me siento preparado para la negociación. ¡Estoy listo para comenzar! ¿Cómo procederemos?\n",
            "\n",
            "--------------------------------------------------------------------------------\n",
            "scenario_creation_agent (to mocked_student):\n",
            "\n",
            "¡Excelente! Con tus ideas adicionales, tenemos un conjunto sólido de argumentos para tu negociación. Aquí está el escenario final:\n",
            "\n",
            "**Título:** Negociando Entradas para el Concierto\n",
            "\n",
            "**Objetivo:** Lograr un acuerdo con el promotor de conciertos para obtener entradas a un precio razonable para un concierto de una famosa banda de pop de los 90.\n",
            "\n",
            "**Contexto:** Estás muy emocionado por el próximo concierto de una banda icónica de los años 90, pero has escuchado que las entradas son bastante caras. Decides reunirte con el promotor del evento para intentar negociar un mejor precio y conseguir un par de entradas.\n",
            "\n",
            "**Roles:**\n",
            "- **Usuario:** Eres un fanático apasionado de la música pop de los 90 que busca obtener entradas a un precio razonable.\n",
            "- **Contrapartida:** El promotor de conciertos, que quiere maximizar las ganancias, pero también tiene un interés en llenar el concierto y asegurar que los fans estén satisfechos.\n",
            "\n",
            "**Puntos de Negociación:**\n",
            "1. Valor emocional y nostalgia de la banda.\n",
            "2. Atraer más fans para llenar el concierto.\n",
            "3. Propuesta de descuento por compra de múltiples entradas.\n",
            "4. Promoción del evento en tus redes sociales.\n",
            "5. Lealtad a la banda y asistencia a conciertos anteriores.\n",
            "6. Competencia de otros eventos en la misma fecha.\n",
            "\n",
            "Con todo esto listo, ¡estás preparado para asumir el papel de fanático y negociar! \n",
            "\n",
            "FIN_ESCENARIO\n",
            "\n",
            "--------------------------------------------------------------------------------\n"
          ]
        }
      ]
    },
    {
      "cell_type": "code",
      "source": [
        "\n",
        "print(\"ESCENARIO\")\n",
        "escenario_1 = chat_result.chat_history[-1][\"content\"]\n",
        "\n",
        "print(escenario_1)\n",
        "print()\n",
        "\n",
        "\n",
        "print(\"COSTO\")\n",
        "pprint(chat_result.cost)\n",
        "print()"
      ],
      "metadata": {
        "colab": {
          "base_uri": "https://localhost:8080/"
        },
        "collapsed": true,
        "id": "_Al5KdlF2lWG",
        "outputId": "8fecc713-baed-41fe-bd46-3561534f2cf7"
      },
      "execution_count": null,
      "outputs": [
        {
          "output_type": "stream",
          "name": "stdout",
          "text": [
            "ESCENARIO\n",
            "¡Excelente! Con tus ideas adicionales, tenemos un conjunto sólido de argumentos para tu negociación. Aquí está el escenario final:\n",
            "\n",
            "**Título:** Negociando Entradas para el Concierto\n",
            "\n",
            "**Objetivo:** Lograr un acuerdo con el promotor de conciertos para obtener entradas a un precio razonable para un concierto de una famosa banda de pop de los 90.\n",
            "\n",
            "**Contexto:** Estás muy emocionado por el próximo concierto de una banda icónica de los años 90, pero has escuchado que las entradas son bastante caras. Decides reunirte con el promotor del evento para intentar negociar un mejor precio y conseguir un par de entradas.\n",
            "\n",
            "**Roles:**\n",
            "- **Usuario:** Eres un fanático apasionado de la música pop de los 90 que busca obtener entradas a un precio razonable.\n",
            "- **Contrapartida:** El promotor de conciertos, que quiere maximizar las ganancias, pero también tiene un interés en llenar el concierto y asegurar que los fans estén satisfechos.\n",
            "\n",
            "**Puntos de Negociación:**\n",
            "1. Valor emocional y nostalgia de la banda.\n",
            "2. Atraer más fans para llenar el concierto.\n",
            "3. Propuesta de descuento por compra de múltiples entradas.\n",
            "4. Promoción del evento en tus redes sociales.\n",
            "5. Lealtad a la banda y asistencia a conciertos anteriores.\n",
            "6. Competencia de otros eventos en la misma fecha.\n",
            "\n",
            "Con todo esto listo, ¡estás preparado para asumir el papel de fanático y negociar! \n",
            "\n",
            "FIN_ESCENARIO\n",
            "\n",
            "COSTO\n",
            "{'usage_excluding_cached_inference': {'gpt-4o-mini-2024-07-18': {'completion_tokens': 1277,\n",
            "                                                                 'cost': 0.0017339999999999999,\n",
            "                                                                 'prompt_tokens': 6452,\n",
            "                                                                 'total_tokens': 7729},\n",
            "                                      'total_cost': 0.0017339999999999999},\n",
            " 'usage_including_cached_inference': {'gpt-4o-mini-2024-07-18': {'completion_tokens': 1277,\n",
            "                                                                 'cost': 0.0017339999999999999,\n",
            "                                                                 'prompt_tokens': 6452,\n",
            "                                                                 'total_tokens': 7729},\n",
            "                                      'total_cost': 0.0017339999999999999}}\n",
            "\n"
          ]
        }
      ]
    },
    {
      "cell_type": "markdown",
      "source": [
        "# Interacción con usuario real\n"
      ],
      "metadata": {
        "id": "kfr6jSbyIqRk"
      }
    },
    {
      "cell_type": "code",
      "source": [
        "real_user_parnter = UserProxyAgent(\n",
        "            name=\"user\",\n",
        "            human_input_mode=\"ALWAYS\",\n",
        "        )"
      ],
      "metadata": {
        "id": "-XrdAk9A238I"
      },
      "execution_count": null,
      "outputs": []
    },
    {
      "cell_type": "code",
      "source": [
        "# chat_result = creador_de_escenario.initiate_chat(\n",
        "#     real_user_parnter,\n",
        "#     message=\"Hola!\",\n",
        "#     max_turns=12,\n",
        "#     summary_method=\"reflection_with_llm\",\n",
        "#     summary_prompt=\"Escribe el escenario en Español\",\n",
        "#     is_termination_msg=lambda msg: fin_de_conversacion_keyword in msg[\"content\"]\n",
        "# )"
      ],
      "metadata": {
        "id": "L6rXwRaW2zSS"
      },
      "execution_count": null,
      "outputs": []
    },
    {
      "cell_type": "code",
      "source": [
        "print(\"SUMMARY\")\n",
        "pprint(chat_result.summary)\n",
        "print()\n",
        "\n",
        "print(\"COST\")\n",
        "pprint(chat_result.cost)\n",
        "print()\n",
        "\n",
        "pprint(\"ESCENARIO\")\n",
        "escenario_2 = chat_result.chat_history[-1][\"content\"]\n",
        "print(escenario_2)\n",
        "print()\n"
      ],
      "metadata": {
        "colab": {
          "base_uri": "https://localhost:8080/"
        },
        "id": "vP3YcsUPJp2V",
        "outputId": "6b60a07c-c4b8-4d87-cada-3946dbb385c4"
      },
      "execution_count": null,
      "outputs": [
        {
          "output_type": "stream",
          "name": "stdout",
          "text": [
            "SUMMARY\n",
            "('The user created a negotiation scenario focused on obtaining concert tickets '\n",
            " 'for a 90s pop band. They prepared specific arguments to present during the '\n",
            " 'negotiation with a concert promoter, including the emotional value of the '\n",
            " 'band, the benefits of attracting more fans, proposing discounts for multiple '\n",
            " 'ticket purchases, offering to promote the event, highlighting their loyalty '\n",
            " 'as a long-time fan, and mentioning competition from other events. The user '\n",
            " 'expressed excitement and readiness to engage in the negotiation role-play.')\n",
            "\n",
            "COST\n",
            "{'usage_excluding_cached_inference': {'gpt-4o-mini-2024-07-18': {'completion_tokens': 1277,\n",
            "                                                                 'cost': 0.0017339999999999999,\n",
            "                                                                 'prompt_tokens': 6452,\n",
            "                                                                 'total_tokens': 7729},\n",
            "                                      'total_cost': 0.0017339999999999999},\n",
            " 'usage_including_cached_inference': {'gpt-4o-mini-2024-07-18': {'completion_tokens': 1277,\n",
            "                                                                 'cost': 0.0017339999999999999,\n",
            "                                                                 'prompt_tokens': 6452,\n",
            "                                                                 'total_tokens': 7729},\n",
            "                                      'total_cost': 0.0017339999999999999}}\n",
            "\n",
            "'ESCENARIO'\n",
            "¡Excelente! Con tus ideas adicionales, tenemos un conjunto sólido de argumentos para tu negociación. Aquí está el escenario final:\n",
            "\n",
            "**Título:** Negociando Entradas para el Concierto\n",
            "\n",
            "**Objetivo:** Lograr un acuerdo con el promotor de conciertos para obtener entradas a un precio razonable para un concierto de una famosa banda de pop de los 90.\n",
            "\n",
            "**Contexto:** Estás muy emocionado por el próximo concierto de una banda icónica de los años 90, pero has escuchado que las entradas son bastante caras. Decides reunirte con el promotor del evento para intentar negociar un mejor precio y conseguir un par de entradas.\n",
            "\n",
            "**Roles:**\n",
            "- **Usuario:** Eres un fanático apasionado de la música pop de los 90 que busca obtener entradas a un precio razonable.\n",
            "- **Contrapartida:** El promotor de conciertos, que quiere maximizar las ganancias, pero también tiene un interés en llenar el concierto y asegurar que los fans estén satisfechos.\n",
            "\n",
            "**Puntos de Negociación:**\n",
            "1. Valor emocional y nostalgia de la banda.\n",
            "2. Atraer más fans para llenar el concierto.\n",
            "3. Propuesta de descuento por compra de múltiples entradas.\n",
            "4. Promoción del evento en tus redes sociales.\n",
            "5. Lealtad a la banda y asistencia a conciertos anteriores.\n",
            "6. Competencia de otros eventos en la misma fecha.\n",
            "\n",
            "Con todo esto listo, ¡estás preparado para asumir el papel de fanático y negociar! \n",
            "\n",
            "FIN_ESCENARIO\n",
            "\n"
          ]
        }
      ]
    }
  ],
  "metadata": {
    "kernelspec": {
      "display_name": "Python 3",
      "language": "python",
      "name": "python3"
    },
    "language_info": {
      "codemirror_mode": {
        "name": "ipython",
        "version": 3
      },
      "file_extension": ".py",
      "mimetype": "text/x-python",
      "name": "python",
      "nbconvert_exporter": "python",
      "pygments_lexer": "ipython3",
      "version": "3.8.10"
    },
    "colab": {
      "provenance": [],
      "include_colab_link": true
    }
  },
  "nbformat": 4,
  "nbformat_minor": 0
}