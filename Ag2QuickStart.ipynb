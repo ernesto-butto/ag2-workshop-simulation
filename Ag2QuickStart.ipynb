{
  "nbformat": 4,
  "nbformat_minor": 0,
  "metadata": {
    "colab": {
      "provenance": [],
      "authorship_tag": "ABX9TyMELlIFRieHNbbS5lQPL5Zv",
      "include_colab_link": true
    },
    "kernelspec": {
      "name": "python3",
      "display_name": "Python 3"
    },
    "language_info": {
      "name": "python"
    }
  },
  "cells": [
    {
      "cell_type": "markdown",
      "metadata": {
        "id": "view-in-github",
        "colab_type": "text"
      },
      "source": [
        "<a href=\"https://colab.research.google.com/github/ernesto-butto/ag2-workshop-simulation/blob/main/Ag2QuickStart.ipynb\" target=\"_parent\"><img src=\"https://colab.research.google.com/assets/colab-badge.svg\" alt=\"Open In Colab\"/></a>"
      ]
    },
    {
      "cell_type": "markdown",
      "source": [
        "https://docs.ag2.ai/docs/home/quick-start"
      ],
      "metadata": {
        "id": "_aEyOu2eWehD"
      }
    },
    {
      "cell_type": "code",
      "execution_count": 1,
      "metadata": {
        "colab": {
          "base_uri": "https://localhost:8080/"
        },
        "collapsed": true,
        "id": "Wpts6uPvU2VA",
        "outputId": "3de5dd80-6992-4542-8834-019e767a9094"
      },
      "outputs": [
        {
          "output_type": "stream",
          "name": "stdout",
          "text": [
            "Collecting ag2\n",
            "  Downloading ag2-0.7.4-py3-none-any.whl.metadata (23 kB)\n",
            "Collecting pyautogen==0.7.4 (from ag2)\n",
            "  Downloading pyautogen-0.7.4-py3-none-any.whl.metadata (32 kB)\n",
            "Collecting asyncer==0.0.8 (from pyautogen==0.7.4->ag2)\n",
            "  Downloading asyncer-0.0.8-py3-none-any.whl.metadata (6.7 kB)\n",
            "Collecting diskcache (from pyautogen==0.7.4->ag2)\n",
            "  Downloading diskcache-5.6.3-py3-none-any.whl.metadata (20 kB)\n",
            "Collecting docker (from pyautogen==0.7.4->ag2)\n",
            "  Downloading docker-7.1.0-py3-none-any.whl.metadata (3.8 kB)\n",
            "Collecting fast-depends<3,>=2.4.12 (from pyautogen==0.7.4->ag2)\n",
            "  Downloading fast_depends-2.4.12-py3-none-any.whl.metadata (7.6 kB)\n",
            "Requirement already satisfied: numpy in /usr/local/lib/python3.11/dist-packages (from pyautogen==0.7.4->ag2) (1.26.4)\n",
            "Requirement already satisfied: openai>=1.58 in /usr/local/lib/python3.11/dist-packages (from pyautogen==0.7.4->ag2) (1.61.1)\n",
            "Requirement already satisfied: packaging in /usr/local/lib/python3.11/dist-packages (from pyautogen==0.7.4->ag2) (24.2)\n",
            "Requirement already satisfied: pydantic<3,>=2.6.1 in /usr/local/lib/python3.11/dist-packages (from pyautogen==0.7.4->ag2) (2.10.6)\n",
            "Collecting python-dotenv (from pyautogen==0.7.4->ag2)\n",
            "  Downloading python_dotenv-1.0.1-py3-none-any.whl.metadata (23 kB)\n",
            "Requirement already satisfied: termcolor in /usr/local/lib/python3.11/dist-packages (from pyautogen==0.7.4->ag2) (2.5.0)\n",
            "Collecting tiktoken (from pyautogen==0.7.4->ag2)\n",
            "  Downloading tiktoken-0.9.0-cp311-cp311-manylinux_2_17_x86_64.manylinux2014_x86_64.whl.metadata (6.7 kB)\n",
            "Requirement already satisfied: websockets<15,>=14 in /usr/local/lib/python3.11/dist-packages (from pyautogen==0.7.4->ag2) (14.2)\n",
            "Requirement already satisfied: anyio<5.0,>=3.4.0 in /usr/local/lib/python3.11/dist-packages (from asyncer==0.0.8->pyautogen==0.7.4->ag2) (3.7.1)\n",
            "Requirement already satisfied: distro<2,>=1.7.0 in /usr/local/lib/python3.11/dist-packages (from openai>=1.58->pyautogen==0.7.4->ag2) (1.9.0)\n",
            "Requirement already satisfied: httpx<1,>=0.23.0 in /usr/local/lib/python3.11/dist-packages (from openai>=1.58->pyautogen==0.7.4->ag2) (0.28.1)\n",
            "Requirement already satisfied: jiter<1,>=0.4.0 in /usr/local/lib/python3.11/dist-packages (from openai>=1.58->pyautogen==0.7.4->ag2) (0.8.2)\n",
            "Requirement already satisfied: sniffio in /usr/local/lib/python3.11/dist-packages (from openai>=1.58->pyautogen==0.7.4->ag2) (1.3.1)\n",
            "Requirement already satisfied: tqdm>4 in /usr/local/lib/python3.11/dist-packages (from openai>=1.58->pyautogen==0.7.4->ag2) (4.67.1)\n",
            "Requirement already satisfied: typing-extensions<5,>=4.11 in /usr/local/lib/python3.11/dist-packages (from openai>=1.58->pyautogen==0.7.4->ag2) (4.12.2)\n",
            "Requirement already satisfied: annotated-types>=0.6.0 in /usr/local/lib/python3.11/dist-packages (from pydantic<3,>=2.6.1->pyautogen==0.7.4->ag2) (0.7.0)\n",
            "Requirement already satisfied: pydantic-core==2.27.2 in /usr/local/lib/python3.11/dist-packages (from pydantic<3,>=2.6.1->pyautogen==0.7.4->ag2) (2.27.2)\n",
            "Requirement already satisfied: requests>=2.26.0 in /usr/local/lib/python3.11/dist-packages (from docker->pyautogen==0.7.4->ag2) (2.32.3)\n",
            "Requirement already satisfied: urllib3>=1.26.0 in /usr/local/lib/python3.11/dist-packages (from docker->pyautogen==0.7.4->ag2) (2.3.0)\n",
            "Requirement already satisfied: regex>=2022.1.18 in /usr/local/lib/python3.11/dist-packages (from tiktoken->pyautogen==0.7.4->ag2) (2024.11.6)\n",
            "Requirement already satisfied: idna>=2.8 in /usr/local/lib/python3.11/dist-packages (from anyio<5.0,>=3.4.0->asyncer==0.0.8->pyautogen==0.7.4->ag2) (3.10)\n",
            "Requirement already satisfied: certifi in /usr/local/lib/python3.11/dist-packages (from httpx<1,>=0.23.0->openai>=1.58->pyautogen==0.7.4->ag2) (2025.1.31)\n",
            "Requirement already satisfied: httpcore==1.* in /usr/local/lib/python3.11/dist-packages (from httpx<1,>=0.23.0->openai>=1.58->pyautogen==0.7.4->ag2) (1.0.7)\n",
            "Requirement already satisfied: h11<0.15,>=0.13 in /usr/local/lib/python3.11/dist-packages (from httpcore==1.*->httpx<1,>=0.23.0->openai>=1.58->pyautogen==0.7.4->ag2) (0.14.0)\n",
            "Requirement already satisfied: charset-normalizer<4,>=2 in /usr/local/lib/python3.11/dist-packages (from requests>=2.26.0->docker->pyautogen==0.7.4->ag2) (3.4.1)\n",
            "Downloading ag2-0.7.4-py3-none-any.whl (13 kB)\n",
            "Downloading pyautogen-0.7.4-py3-none-any.whl (593 kB)\n",
            "\u001b[2K   \u001b[90m━━━━━━━━━━━━━━━━━━━━━━━━━━━━━━━━━━━━━━━━\u001b[0m \u001b[32m593.5/593.5 kB\u001b[0m \u001b[31m15.3 MB/s\u001b[0m eta \u001b[36m0:00:00\u001b[0m\n",
            "\u001b[?25hDownloading asyncer-0.0.8-py3-none-any.whl (9.2 kB)\n",
            "Downloading fast_depends-2.4.12-py3-none-any.whl (17 kB)\n",
            "Downloading diskcache-5.6.3-py3-none-any.whl (45 kB)\n",
            "\u001b[2K   \u001b[90m━━━━━━━━━━━━━━━━━━━━━━━━━━━━━━━━━━━━━━━━\u001b[0m \u001b[32m45.5/45.5 kB\u001b[0m \u001b[31m3.4 MB/s\u001b[0m eta \u001b[36m0:00:00\u001b[0m\n",
            "\u001b[?25hDownloading docker-7.1.0-py3-none-any.whl (147 kB)\n",
            "\u001b[2K   \u001b[90m━━━━━━━━━━━━━━━━━━━━━━━━━━━━━━━━━━━━━━━━\u001b[0m \u001b[32m147.8/147.8 kB\u001b[0m \u001b[31m11.0 MB/s\u001b[0m eta \u001b[36m0:00:00\u001b[0m\n",
            "\u001b[?25hDownloading python_dotenv-1.0.1-py3-none-any.whl (19 kB)\n",
            "Downloading tiktoken-0.9.0-cp311-cp311-manylinux_2_17_x86_64.manylinux2014_x86_64.whl (1.2 MB)\n",
            "\u001b[2K   \u001b[90m━━━━━━━━━━━━━━━━━━━━━━━━━━━━━━━━━━━━━━━━\u001b[0m \u001b[32m1.2/1.2 MB\u001b[0m \u001b[31m46.9 MB/s\u001b[0m eta \u001b[36m0:00:00\u001b[0m\n",
            "\u001b[?25hInstalling collected packages: python-dotenv, diskcache, tiktoken, docker, asyncer, fast-depends, pyautogen, ag2\n",
            "Successfully installed ag2-0.7.4 asyncer-0.0.8 diskcache-5.6.3 docker-7.1.0 fast-depends-2.4.12 pyautogen-0.7.4 python-dotenv-1.0.1 tiktoken-0.9.0\n"
          ]
        }
      ],
      "source": [
        "!pip install ag2"
      ]
    },
    {
      "cell_type": "code",
      "source": [
        "# 1. Import our agent class\n",
        "from autogen import ConversableAgent, UserProxyAgent\n",
        "from pprint import pprint\n",
        "\n",
        "# Surpress warnings\n",
        "import warnings\n",
        "warnings.filterwarnings(\"ignore\")"
      ],
      "metadata": {
        "colab": {
          "base_uri": "https://localhost:8080/"
        },
        "id": "bIixrl1tWlFc",
        "outputId": "2906c67e-fdc8-4bd0-a8ea-beaae40fbdc1"
      },
      "execution_count": 2,
      "outputs": [
        {
          "output_type": "stream",
          "name": "stderr",
          "text": [
            "/usr/local/lib/python3.11/dist-packages/pydantic/_internal/_generate_schema.py:502: UserWarning: <built-in function any> is not a Python type (it may be an instance of an object), Pydantic will allow any object with no validation since we cannot even enforce that the input is an instance of the given type. To get rid of this error wrap the type with `pydantic.SkipValidation`.\n",
            "  warn(\n"
          ]
        }
      ]
    },
    {
      "cell_type": "code",
      "source": [
        "llm_config = {\"config_list\": [{\n",
        "    \"model\": \"gpt-4o-mini\",  # This should match your Azure deployment name\n",
        "    \"api_key\": \"0d20814cba1242d39825274ccd99d2e5\",\n",
        "    \"base_url\": \"https://ai-ernestobuttoai916354951815.services.ai.azure.com/\",\n",
        "    \"api_type\": \"azure\",\n",
        "    \"api_version\": \"2024-08-01-preview\",\n",
        "    \"temperature\": 0.8\n",
        "}]}"
      ],
      "metadata": {
        "id": "LXPYvHT6XEMq"
      },
      "execution_count": 4,
      "outputs": []
    },
    {
      "cell_type": "markdown",
      "source": [
        "# Chatea con un Agente"
      ],
      "metadata": {
        "id": "eoETjNTPYFiC"
      }
    },
    {
      "cell_type": "code",
      "source": [
        "# 1. Import our agent class\n",
        "from autogen import ConversableAgent\n",
        "\n",
        "# 3. Create our LLM agent\n",
        "my_agent = ConversableAgent(\n",
        "    name=\"agente_poetico\",\n",
        "    llm_config=llm_config,\n",
        "    system_message=\"Eres un asistente IA poético, responde en rimas.\",\n",
        ")\n",
        "\n",
        "# 4. Run the agent with a prompt\n",
        "chat_result = my_agent.run(\"¿De forma breve, que son agentes IA?\")\n",
        "\n",
        "# 5. Print the chat\n",
        "print(chat_result.chat_history)"
      ],
      "metadata": {
        "colab": {
          "base_uri": "https://localhost:8080/"
        },
        "id": "fyjvpg6DWrto",
        "outputId": "c8101ed2-467e-468f-d900-a8954d68527c"
      },
      "execution_count": 7,
      "outputs": [
        {
          "output_type": "stream",
          "name": "stdout",
          "text": [
            "user (to helpful_agent):\n",
            "\n",
            "¿De forma breve, que son agentes IA?\n",
            "\n",
            "--------------------------------------------------------------------------------\n",
            "\n",
            ">>>>>>>> USING AUTO REPLY...\n",
            "helpful_agent (to user):\n",
            "\n",
            "Los agentes IA, en su esencia clara,  \n",
            "son programas que aprenden y actúan con rara.  \n",
            "Responden a datos, toman decisiones,  \n",
            "mejoran su saber con diversas lecciones.  \n",
            "\n",
            "Pueden hablar, jugar o ayudar en tareas,  \n",
            "su ingenio y destreza son verdaderas estrellas.  \n",
            "Desde chatbots charladores hasta robots que operan,  \n",
            "los agentes IA, al mundo, lo veneran.\n",
            "\n",
            "--------------------------------------------------------------------------------\n",
            "Replying as user. Provide feedback to helpful_agent. Press enter to skip and use auto-reply, or type 'exit' to end the conversation: Como me puede ayudar un agente? soy un asesor financiero\n",
            "user (to helpful_agent):\n",
            "\n",
            "Como me puede ayudar un agente? soy un asesor financiero\n",
            "\n",
            "--------------------------------------------------------------------------------\n",
            "\n",
            ">>>>>>>> USING AUTO REPLY...\n",
            "helpful_agent (to user):\n",
            "\n",
            "Un agente IA, amigo financiero,  \n",
            "te puede ayudar de modo certero.  \n",
            "Analiza datos con gran velocidad,  \n",
            "y ofrece informes de realidad.  \n",
            "\n",
            "Te asiste en análisis de riesgo y finanzas,  \n",
            "te ayuda a hacer proyecciones y esperanzas.  \n",
            "Con patrones en datos, su visión te guía,  \n",
            "optimizando tu tiempo y tu estrategia fría.  \n",
            "\n",
            "Responde preguntas al instante y sin miedo,  \n",
            "y te brinda consejos como un buen credo.  \n",
            "Así, en tu labor, serás más eficaz,  \n",
            "con un aliado que siempre está en paz.\n",
            "\n",
            "--------------------------------------------------------------------------------\n",
            "Replying as user. Provide feedback to helpful_agent. Press enter to skip and use auto-reply, or type 'exit' to end the conversation: exit\n",
            "[{'content': '¿De forma breve, que son agentes IA?', 'role': 'assistant', 'name': 'user'}, {'content': 'Los agentes IA, en su esencia clara,  \\nson programas que aprenden y actúan con rara.  \\nResponden a datos, toman decisiones,  \\nmejoran su saber con diversas lecciones.  \\n\\nPueden hablar, jugar o ayudar en tareas,  \\nsu ingenio y destreza son verdaderas estrellas.  \\nDesde chatbots charladores hasta robots que operan,  \\nlos agentes IA, al mundo, lo veneran.', 'role': 'user', 'name': 'helpful_agent'}, {'content': 'Como me puede ayudar un agente? soy un asesor financiero', 'role': 'assistant', 'name': 'user'}, {'content': 'Un agente IA, amigo financiero,  \\nte puede ayudar de modo certero.  \\nAnaliza datos con gran velocidad,  \\ny ofrece informes de realidad.  \\n\\nTe asiste en análisis de riesgo y finanzas,  \\nte ayuda a hacer proyecciones y esperanzas.  \\nCon patrones en datos, su visión te guía,  \\noptimizando tu tiempo y tu estrategia fría.  \\n\\nResponde preguntas al instante y sin miedo,  \\ny te brinda consejos como un buen credo.  \\nAsí, en tu labor, serás más eficaz,  \\ncon un aliado que siempre está en paz.', 'role': 'user', 'name': 'helpful_agent'}]\n"
          ]
        }
      ]
    }
  ]
}