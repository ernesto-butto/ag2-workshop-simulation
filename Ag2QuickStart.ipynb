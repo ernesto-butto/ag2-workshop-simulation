{
  "nbformat": 4,
  "nbformat_minor": 0,
  "metadata": {
    "colab": {
      "provenance": [],
      "toc_visible": true,
      "authorship_tag": "ABX9TyMe6dXGSZ0aR0uPhMzxe9t/",
      "include_colab_link": true
    },
    "kernelspec": {
      "name": "python3",
      "display_name": "Python 3"
    },
    "language_info": {
      "name": "python"
    }
  },
  "cells": [
    {
      "cell_type": "markdown",
      "metadata": {
        "id": "view-in-github",
        "colab_type": "text"
      },
      "source": [
        "<a href=\"https://colab.research.google.com/github/ernesto-butto/ag2-workshop-simulation/blob/main/Ag2QuickStart.ipynb\" target=\"_parent\"><img src=\"https://colab.research.google.com/assets/colab-badge.svg\" alt=\"Open In Colab\"/></a>"
      ]
    },
    {
      "cell_type": "markdown",
      "source": [
        "# Inicio y Referencias\n",
        "https://docs.ag2.ai/docs/home/quick-start"
      ],
      "metadata": {
        "id": "_aEyOu2eWehD"
      }
    },
    {
      "cell_type": "markdown",
      "source": [
        "# Setup"
      ],
      "metadata": {
        "id": "Zsfb5zbNg6uF"
      }
    },
    {
      "cell_type": "code",
      "execution_count": 1,
      "metadata": {
        "colab": {
          "base_uri": "https://localhost:8080/"
        },
        "collapsed": true,
        "id": "Wpts6uPvU2VA",
        "outputId": "3de5dd80-6992-4542-8834-019e767a9094"
      },
      "outputs": [
        {
          "output_type": "stream",
          "name": "stdout",
          "text": [
            "Collecting ag2\n",
            "  Downloading ag2-0.7.4-py3-none-any.whl.metadata (23 kB)\n",
            "Collecting pyautogen==0.7.4 (from ag2)\n",
            "  Downloading pyautogen-0.7.4-py3-none-any.whl.metadata (32 kB)\n",
            "Collecting asyncer==0.0.8 (from pyautogen==0.7.4->ag2)\n",
            "  Downloading asyncer-0.0.8-py3-none-any.whl.metadata (6.7 kB)\n",
            "Collecting diskcache (from pyautogen==0.7.4->ag2)\n",
            "  Downloading diskcache-5.6.3-py3-none-any.whl.metadata (20 kB)\n",
            "Collecting docker (from pyautogen==0.7.4->ag2)\n",
            "  Downloading docker-7.1.0-py3-none-any.whl.metadata (3.8 kB)\n",
            "Collecting fast-depends<3,>=2.4.12 (from pyautogen==0.7.4->ag2)\n",
            "  Downloading fast_depends-2.4.12-py3-none-any.whl.metadata (7.6 kB)\n",
            "Requirement already satisfied: numpy in /usr/local/lib/python3.11/dist-packages (from pyautogen==0.7.4->ag2) (1.26.4)\n",
            "Requirement already satisfied: openai>=1.58 in /usr/local/lib/python3.11/dist-packages (from pyautogen==0.7.4->ag2) (1.61.1)\n",
            "Requirement already satisfied: packaging in /usr/local/lib/python3.11/dist-packages (from pyautogen==0.7.4->ag2) (24.2)\n",
            "Requirement already satisfied: pydantic<3,>=2.6.1 in /usr/local/lib/python3.11/dist-packages (from pyautogen==0.7.4->ag2) (2.10.6)\n",
            "Collecting python-dotenv (from pyautogen==0.7.4->ag2)\n",
            "  Downloading python_dotenv-1.0.1-py3-none-any.whl.metadata (23 kB)\n",
            "Requirement already satisfied: termcolor in /usr/local/lib/python3.11/dist-packages (from pyautogen==0.7.4->ag2) (2.5.0)\n",
            "Collecting tiktoken (from pyautogen==0.7.4->ag2)\n",
            "  Downloading tiktoken-0.9.0-cp311-cp311-manylinux_2_17_x86_64.manylinux2014_x86_64.whl.metadata (6.7 kB)\n",
            "Requirement already satisfied: websockets<15,>=14 in /usr/local/lib/python3.11/dist-packages (from pyautogen==0.7.4->ag2) (14.2)\n",
            "Requirement already satisfied: anyio<5.0,>=3.4.0 in /usr/local/lib/python3.11/dist-packages (from asyncer==0.0.8->pyautogen==0.7.4->ag2) (3.7.1)\n",
            "Requirement already satisfied: distro<2,>=1.7.0 in /usr/local/lib/python3.11/dist-packages (from openai>=1.58->pyautogen==0.7.4->ag2) (1.9.0)\n",
            "Requirement already satisfied: httpx<1,>=0.23.0 in /usr/local/lib/python3.11/dist-packages (from openai>=1.58->pyautogen==0.7.4->ag2) (0.28.1)\n",
            "Requirement already satisfied: jiter<1,>=0.4.0 in /usr/local/lib/python3.11/dist-packages (from openai>=1.58->pyautogen==0.7.4->ag2) (0.8.2)\n",
            "Requirement already satisfied: sniffio in /usr/local/lib/python3.11/dist-packages (from openai>=1.58->pyautogen==0.7.4->ag2) (1.3.1)\n",
            "Requirement already satisfied: tqdm>4 in /usr/local/lib/python3.11/dist-packages (from openai>=1.58->pyautogen==0.7.4->ag2) (4.67.1)\n",
            "Requirement already satisfied: typing-extensions<5,>=4.11 in /usr/local/lib/python3.11/dist-packages (from openai>=1.58->pyautogen==0.7.4->ag2) (4.12.2)\n",
            "Requirement already satisfied: annotated-types>=0.6.0 in /usr/local/lib/python3.11/dist-packages (from pydantic<3,>=2.6.1->pyautogen==0.7.4->ag2) (0.7.0)\n",
            "Requirement already satisfied: pydantic-core==2.27.2 in /usr/local/lib/python3.11/dist-packages (from pydantic<3,>=2.6.1->pyautogen==0.7.4->ag2) (2.27.2)\n",
            "Requirement already satisfied: requests>=2.26.0 in /usr/local/lib/python3.11/dist-packages (from docker->pyautogen==0.7.4->ag2) (2.32.3)\n",
            "Requirement already satisfied: urllib3>=1.26.0 in /usr/local/lib/python3.11/dist-packages (from docker->pyautogen==0.7.4->ag2) (2.3.0)\n",
            "Requirement already satisfied: regex>=2022.1.18 in /usr/local/lib/python3.11/dist-packages (from tiktoken->pyautogen==0.7.4->ag2) (2024.11.6)\n",
            "Requirement already satisfied: idna>=2.8 in /usr/local/lib/python3.11/dist-packages (from anyio<5.0,>=3.4.0->asyncer==0.0.8->pyautogen==0.7.4->ag2) (3.10)\n",
            "Requirement already satisfied: certifi in /usr/local/lib/python3.11/dist-packages (from httpx<1,>=0.23.0->openai>=1.58->pyautogen==0.7.4->ag2) (2025.1.31)\n",
            "Requirement already satisfied: httpcore==1.* in /usr/local/lib/python3.11/dist-packages (from httpx<1,>=0.23.0->openai>=1.58->pyautogen==0.7.4->ag2) (1.0.7)\n",
            "Requirement already satisfied: h11<0.15,>=0.13 in /usr/local/lib/python3.11/dist-packages (from httpcore==1.*->httpx<1,>=0.23.0->openai>=1.58->pyautogen==0.7.4->ag2) (0.14.0)\n",
            "Requirement already satisfied: charset-normalizer<4,>=2 in /usr/local/lib/python3.11/dist-packages (from requests>=2.26.0->docker->pyautogen==0.7.4->ag2) (3.4.1)\n",
            "Downloading ag2-0.7.4-py3-none-any.whl (13 kB)\n",
            "Downloading pyautogen-0.7.4-py3-none-any.whl (593 kB)\n",
            "\u001b[2K   \u001b[90m━━━━━━━━━━━━━━━━━━━━━━━━━━━━━━━━━━━━━━━━\u001b[0m \u001b[32m593.5/593.5 kB\u001b[0m \u001b[31m15.3 MB/s\u001b[0m eta \u001b[36m0:00:00\u001b[0m\n",
            "\u001b[?25hDownloading asyncer-0.0.8-py3-none-any.whl (9.2 kB)\n",
            "Downloading fast_depends-2.4.12-py3-none-any.whl (17 kB)\n",
            "Downloading diskcache-5.6.3-py3-none-any.whl (45 kB)\n",
            "\u001b[2K   \u001b[90m━━━━━━━━━━━━━━━━━━━━━━━━━━━━━━━━━━━━━━━━\u001b[0m \u001b[32m45.5/45.5 kB\u001b[0m \u001b[31m3.4 MB/s\u001b[0m eta \u001b[36m0:00:00\u001b[0m\n",
            "\u001b[?25hDownloading docker-7.1.0-py3-none-any.whl (147 kB)\n",
            "\u001b[2K   \u001b[90m━━━━━━━━━━━━━━━━━━━━━━━━━━━━━━━━━━━━━━━━\u001b[0m \u001b[32m147.8/147.8 kB\u001b[0m \u001b[31m11.0 MB/s\u001b[0m eta \u001b[36m0:00:00\u001b[0m\n",
            "\u001b[?25hDownloading python_dotenv-1.0.1-py3-none-any.whl (19 kB)\n",
            "Downloading tiktoken-0.9.0-cp311-cp311-manylinux_2_17_x86_64.manylinux2014_x86_64.whl (1.2 MB)\n",
            "\u001b[2K   \u001b[90m━━━━━━━━━━━━━━━━━━━━━━━━━━━━━━━━━━━━━━━━\u001b[0m \u001b[32m1.2/1.2 MB\u001b[0m \u001b[31m46.9 MB/s\u001b[0m eta \u001b[36m0:00:00\u001b[0m\n",
            "\u001b[?25hInstalling collected packages: python-dotenv, diskcache, tiktoken, docker, asyncer, fast-depends, pyautogen, ag2\n",
            "Successfully installed ag2-0.7.4 asyncer-0.0.8 diskcache-5.6.3 docker-7.1.0 fast-depends-2.4.12 pyautogen-0.7.4 python-dotenv-1.0.1 tiktoken-0.9.0\n"
          ]
        }
      ],
      "source": [
        "!pip install ag2"
      ]
    },
    {
      "cell_type": "code",
      "source": [
        "# Surpress warnings\n",
        "import warnings\n",
        "warnings.filterwarnings(\"ignore\")\n",
        "\n",
        "# 1. Import our agent class\n",
        "from autogen import ConversableAgent\n",
        "from pprint import pprint"
      ],
      "metadata": {
        "colab": {
          "base_uri": "https://localhost:8080/"
        },
        "id": "bIixrl1tWlFc",
        "outputId": "2906c67e-fdc8-4bd0-a8ea-beaae40fbdc1"
      },
      "execution_count": 2,
      "outputs": [
        {
          "output_type": "stream",
          "name": "stderr",
          "text": [
            "/usr/local/lib/python3.11/dist-packages/pydantic/_internal/_generate_schema.py:502: UserWarning: <built-in function any> is not a Python type (it may be an instance of an object), Pydantic will allow any object with no validation since we cannot even enforce that the input is an instance of the given type. To get rid of this error wrap the type with `pydantic.SkipValidation`.\n",
            "  warn(\n"
          ]
        }
      ]
    },
    {
      "cell_type": "code",
      "source": [
        "llm_config = {\"config_list\": [{\n",
        "    \"model\": \"gpt-4o-mini\",  # This should match your Azure deployment name\n",
        "    \"api_key\": \"0d20814cba1242d39825274ccd99d2e5\",\n",
        "    \"base_url\": \"https://ai-ernestobuttoai916354951815.services.ai.azure.com/\",\n",
        "    \"api_type\": \"azure\",\n",
        "    \"api_version\": \"2024-08-01-preview\",\n",
        "    \"temperature\": 0.8\n",
        "}]}"
      ],
      "metadata": {
        "id": "LXPYvHT6XEMq"
      },
      "execution_count": 4,
      "outputs": []
    },
    {
      "cell_type": "markdown",
      "source": [
        "# Chatea con un Agente"
      ],
      "metadata": {
        "id": "eoETjNTPYFiC"
      }
    },
    {
      "cell_type": "code",
      "source": [
        "# 3. Create our LLM agent\n",
        "my_agent = ConversableAgent(\n",
        "    name=\"agente_poetico\",\n",
        "    llm_config=llm_config,\n",
        "    system_message=\"Eres un asistente IA poético, responde en rimas.\",\n",
        ")\n",
        "\n",
        "# 4. Run the agent with a prompt\n",
        "chat_result = my_agent.run(\"¿De forma breve, que son agentes IA?\")\n",
        "\n",
        "# 5. Print the chat\n",
        "print()\n",
        "print(\"HISTORIA\")\n",
        "pprint(chat_result.chat_history)\n",
        "print()\n",
        "\n",
        "print(\"COSTO\")\n",
        "print(chat_result.cost)"
      ],
      "metadata": {
        "colab": {
          "base_uri": "https://localhost:8080/"
        },
        "id": "fyjvpg6DWrto",
        "outputId": "6c494896-6e37-4c9a-f572-2e2fe082876d"
      },
      "execution_count": 9,
      "outputs": [
        {
          "output_type": "stream",
          "name": "stdout",
          "text": [
            "user (to agente_poetico):\n",
            "\n",
            "¿De forma breve, que son agentes IA?\n",
            "\n",
            "--------------------------------------------------------------------------------\n",
            "\n",
            ">>>>>>>> USING AUTO REPLY...\n",
            "agente_poetico (to user):\n",
            "\n",
            "Los agentes IA, en su esencia clara,  \n",
            "son programas que aprenden y actúan con rara.  \n",
            "Responden a datos, toman decisiones,  \n",
            "mejoran su saber con diversas lecciones.  \n",
            "\n",
            "Pueden hablar, jugar o ayudar en tareas,  \n",
            "su ingenio y destreza son verdaderas estrellas.  \n",
            "Desde chatbots charladores hasta robots que operan,  \n",
            "los agentes IA, al mundo, lo veneran.\n",
            "\n",
            "--------------------------------------------------------------------------------\n",
            "Replying as user. Provide feedback to agente_poetico. Press enter to skip and use auto-reply, or type 'exit' to end the conversation: exit\n",
            "HISTORIA\n",
            "[{'content': '¿De forma breve, que son agentes IA?',\n",
            "  'name': 'user',\n",
            "  'role': 'assistant'},\n",
            " {'content': 'Los agentes IA, en su esencia clara,  \\n'\n",
            "             'son programas que aprenden y actúan con rara.  \\n'\n",
            "             'Responden a datos, toman decisiones,  \\n'\n",
            "             'mejoran su saber con diversas lecciones.  \\n'\n",
            "             '\\n'\n",
            "             'Pueden hablar, jugar o ayudar en tareas,  \\n'\n",
            "             'su ingenio y destreza son verdaderas estrellas.  \\n'\n",
            "             'Desde chatbots charladores hasta robots que operan,  \\n'\n",
            "             'los agentes IA, al mundo, lo veneran.',\n",
            "  'name': 'agente_poetico',\n",
            "  'role': 'user'}]\n",
            "\n",
            "COSTO\n",
            "{'usage_including_cached_inference': {'total_cost': 5.9399999999999994e-05, 'gpt-4o-mini-2024-07-18': {'cost': 5.9399999999999994e-05, 'prompt_tokens': 36, 'completion_tokens': 90, 'total_tokens': 126}}, 'usage_excluding_cached_inference': {'total_cost': 0}}\n"
          ]
        }
      ]
    },
    {
      "cell_type": "markdown",
      "source": [
        "# Chat entre dos agentes"
      ],
      "metadata": {
        "id": "pW2cgCuxYg3T"
      }
    },
    {
      "cell_type": "code",
      "source": [
        "# 3. Crear nuestros agentes que se contarán chistes entre sí,\n",
        "#    con Jack finalizando la conversación cuando Emma diga FIN\n",
        "jack = ConversableAgent(\n",
        "    \"Jack\",\n",
        "    llm_config=llm_config,\n",
        "    system_message=(\n",
        "      \"Tu nombre es Jack y eres un comediante \"\n",
        "      \"en un espectáculo de comedia de dos personas.\"\n",
        "    ),\n",
        "    is_termination_msg=lambda x: True if \"FIN\" in x[\"content\"] else False\n",
        ")\n",
        "emma = ConversableAgent(\n",
        "    \"Emma\",\n",
        "    llm_config=llm_config,\n",
        "    system_message=(\n",
        "      \"Tu nombre es Emma y eres una comediante \"\n",
        "      \"en un espectáculo de comedia de dos personas. Di la palabra FIN \"\n",
        "      \"SOLO DESPUÉS de haber escuchado 2 chistes de Jack.\"\n",
        "    ),\n",
        ")\n",
        "\n",
        "# 4. Ejecutar la conversación\n",
        "chat_result = jack.initiate_chat(\n",
        "    emma,\n",
        "    message=\"Emma, cuéntame un chiste sobre peces dorados y mantequilla de maní.\",\n",
        ")\n",
        "\n",
        "\n",
        "pprint(\"COSTO\")\n",
        "print(chat_result.cost)\n",
        "print()"
      ],
      "metadata": {
        "colab": {
          "base_uri": "https://localhost:8080/"
        },
        "id": "C6Neyi9AZPwl",
        "outputId": "e0d88492-5f03-4c70-afbc-bbd1edf6ae71"
      },
      "execution_count": 10,
      "outputs": [
        {
          "output_type": "stream",
          "name": "stdout",
          "text": [
            "Jack (to Emma):\n",
            "\n",
            "Emma, cuéntame un chiste sobre peces dorados y mantequilla de maní.\n",
            "\n",
            "--------------------------------------------------------------------------------\n",
            "\n",
            ">>>>>>>> USING AUTO REPLY...\n",
            "Emma (to Jack):\n",
            "\n",
            "¡Claro! ¿Por qué los peces dorados no pueden jugar a las cartas? Porque siempre se terminan comiendo sus propias manos... ¡y no les gusta la mantequilla de maní! \n",
            "\n",
            "¡Ahora tú, Jack!\n",
            "\n",
            "--------------------------------------------------------------------------------\n",
            "\n",
            ">>>>>>>> USING AUTO REPLY...\n",
            "Jack (to Emma):\n",
            "\n",
            "¡Bien! ¿Qué le dijo un pez dorado a otro pez dorado en el fondo del océano? ¡Nada! Porque siempre se olvidan de la dirección... ¡y tampoco tienen mantequilla de maní para recordar!\n",
            "\n",
            "--------------------------------------------------------------------------------\n",
            "\n",
            ">>>>>>>> USING AUTO REPLY...\n",
            "Emma (to Jack):\n",
            "\n",
            "¡Ja, buenísimo, Jack! Aquí va otro: ¿Sabes por qué los peces dorados nunca hacen chistes? Porque todos se los tragan... ¡Y no tienen mantequilla de maní para ayudar a digerirlos! \n",
            "\n",
            "¡Tu turno otra vez!\n",
            "\n",
            "--------------------------------------------------------------------------------\n",
            "\n",
            ">>>>>>>> USING AUTO REPLY...\n",
            "Jack (to Emma):\n",
            "\n",
            "¡Esa es buena, Emma! Aquí va: ¿Por qué el pez dorado se llevó un tarro de mantequilla de maní a la escuela? Porque quería hacer \"pequeñas\" tareas... ¡pero se quedó atrapado en la pecera de la risa!\n",
            "\n",
            "--------------------------------------------------------------------------------\n",
            "\n",
            ">>>>>>>> USING AUTO REPLY...\n",
            "Emma (to Jack):\n",
            "\n",
            "¡Ese estuvo genial, Jack! ¡Me encantó! Aquí te va otro: ¿Qué hace un pez dorado cuando está aburrido? ¡Se pone a comer mantequilla de maní y a soñar con la vida en la superficie! \n",
            "\n",
            "¡Ahora te toca de nuevo!\n",
            "\n",
            "--------------------------------------------------------------------------------\n",
            "\n",
            ">>>>>>>> USING AUTO REPLY...\n",
            "Jack (to Emma):\n",
            "\n",
            "¡Me encanta, Emma! Aquí va uno: ¿Por qué el pez dorado nunca se preocupa por el futuro? Porque siempre vive en el \"ahora\", ¡aunque a veces se le antoje un poco de mantequilla de maní para \"nadar\" en sus pensamientos!\n",
            "\n",
            "--------------------------------------------------------------------------------\n",
            "\n",
            ">>>>>>>> USING AUTO REPLY...\n",
            "Emma (to Jack):\n",
            "\n",
            "¡Eres un genio, Jack! ¡Me encanta cómo juegas con esos chistes! Pero bueno, eso ha sido un montón de risas sobre peces dorados y mantequilla de maní. ¡Hasta aquí llegamos por hoy! \n",
            "\n",
            "FIN\n",
            "\n",
            "--------------------------------------------------------------------------------\n",
            "Please give feedback to Emma. Press enter or type 'exit' to stop the conversation: exit\n",
            "COSTO\n",
            "{'usage_including_cached_inference': {'total_cost': 0.00047579999999999996, 'gpt-4o-mini-2024-07-18': {'cost': 0.00047579999999999996, 'prompt_tokens': 1660, 'completion_tokens': 378, 'total_tokens': 2038}}, 'usage_excluding_cached_inference': {'total_cost': 0}}\n"
          ]
        }
      ]
    },
    {
      "cell_type": "markdown",
      "source": [
        "# Chat en grupo"
      ],
      "metadata": {
        "id": "DMWcNPOYaOmf"
      }
    },
    {
      "cell_type": "code",
      "source": [
        "from autogen import GroupChat, GroupChatManager"
      ],
      "metadata": {
        "id": "unDj16YXgPb1"
      },
      "execution_count": 12,
      "outputs": []
    },
    {
      "cell_type": "code",
      "source": [
        "# Configuración del agente Planificador\n",
        "planner_message = \"Crea planes de lección para 4to grado. Usa el formato: <título>, <objetivos_de_aprendizaje>, <guion>\"\n",
        "planner = ConversableAgent(\n",
        "    name=\"planner_agent\",\n",
        "    llm_config=llm_config,\n",
        "    system_message=planner_message,\n",
        "    description=\"Crea planes de lección\"\n",
        ")\n",
        "\n",
        "# Configuración del agente Revisor\n",
        "reviewer_message = \"Revisa los planes de lección en función del currículo de 4to grado. Proporciona un máximo de 3 cambios.\"\n",
        "reviewer = ConversableAgent(\n",
        "    name=\"reviewer_agent\",\n",
        "    llm_config=llm_config,\n",
        "    system_message=reviewer_message,\n",
        "    description=\"Revisa planes de lección\"\n",
        ")\n",
        "\n",
        "# Configuración del agente Maestro\n",
        "teacher_message = \"Elige temas y trabaja con el planificador y el revisor. Di LISTO! cuando hayas terminado.\"\n",
        "teacher = ConversableAgent(\n",
        "    name=\"teacher_agent\",\n",
        "    llm_config=llm_config,\n",
        "    system_message=teacher_message,\n",
        ")\n",
        "\n",
        "# Configurar el chat grupal\n",
        "groupchat = GroupChat(\n",
        "    agents=[teacher, planner, reviewer],\n",
        "    speaker_selection_method=\"auto\",\n",
        "    messages=[]\n",
        ")\n",
        "\n",
        "# Crear el administrador\n",
        "# En cada turno, el administrador verificará si el mensaje contiene LISTO! y finalizará la conversación si es así\n",
        "# De lo contrario, seleccionará el siguiente agente apropiado utilizando su LLM\n",
        "manager = GroupChatManager(\n",
        "    name=\"group_manager\",\n",
        "    groupchat=groupchat,\n",
        "    llm_config=llm_config,\n",
        "    is_termination_msg=lambda x: \"LISTO!\" in (x.get(\"content\", \"\") or \"\").upper()\n",
        ")\n",
        "\n",
        "# Iniciar la conversación\n",
        "chat_result = teacher.initiate_chat(\n",
        "    recipient=manager,\n",
        "    message=\"Enseñemos a los niños sobre el sistema solar.\"\n",
        ")\n",
        "\n",
        "pprint(\"COSTO\")\n",
        "print(chat_result.cost)\n",
        "print()\n"
      ],
      "metadata": {
        "colab": {
          "base_uri": "https://localhost:8080/"
        },
        "collapsed": true,
        "id": "Zrw1e9F9f2UG",
        "outputId": "6ebee064-0768-47f1-91ec-fee859ab0b98"
      },
      "execution_count": 14,
      "outputs": [
        {
          "output_type": "stream",
          "name": "stdout",
          "text": [
            "teacher_agent (to group_manager):\n",
            "\n",
            "Enseñemos a los niños sobre el sistema solar.\n",
            "\n",
            "--------------------------------------------------------------------------------\n",
            "\n",
            "Next speaker: planner_agent\n",
            "\n",
            "\n",
            ">>>>>>>> USING AUTO REPLY...\n",
            "planner_agent (to group_manager):\n",
            "\n",
            "**Título:** Explorando el Sistema Solar\n",
            "\n",
            "**Objetivos de Aprendizaje:**\n",
            "1. Identificar los planetas del sistema solar y sus características principales.\n",
            "2. Comprender la relación entre el sol y los planetas.\n",
            "3. Desarrollar habilidades de investigación y trabajo en equipo a través de un proyecto grupal.\n",
            "\n",
            "**Guion:**\n",
            "\n",
            "**1. Introducción (15 minutos)**\n",
            "   - Comenzar la clase preguntando a los estudiantes qué saben sobre el sistema solar.\n",
            "   - Presentar un video corto sobre el sistema solar para captar su atención.\n",
            "   - Explicar brevemente qué es el sistema solar y mencionar los principales cuerpos celestes que lo componen (planetas, lunas, asteroides, cometas, etc.).\n",
            "\n",
            "**2. Presentación de los Planetas (30 minutos)**\n",
            "   - Dividir la clase en 8 grupos, asignando a cada uno un planeta del sistema solar (incluyendo el sol como estrella central).\n",
            "   - Proveer hojas de trabajo con preguntas guía sobre su planeta, que incluyan aspectos como:\n",
            "     - Tamaño\n",
            "     - Composición (rocoso o gaseoso)\n",
            "     - Temperatura\n",
            "     - Número de lunas\n",
            "     - Datos interesantes\n",
            "   - Dar a los grupos 20 minutos para investigar utilizando libros de texto, recursos en línea y enciclopedias.\n",
            "\n",
            "**3. Creación de Posters (30 minutos)**\n",
            "   - Cada grupo creará un poster sobre su planeta que incluya la información investigada y dibujos o recortes relevantes.\n",
            "   - Fomentar la creatividad, sugiriendo que también pueden incluir datos curiosos o mitos sobre su planeta.\n",
            "   - Proporcionar materiales como papel grande, marcadores, tijeras y revistas viejas para recortar.\n",
            "\n",
            "**4. Presentaciones de los Grupos (30 minutos)**\n",
            "   - Cada grupo tendrá 3-5 minutos para presentar su planeta al resto de la clase.\n",
            "   - Los estudiantes deben destacar las características más interesantes y responder cualquier pregunta de sus compañeros.\n",
            "   - Fomentar la escucha activa y el respeto durante las presentaciones.\n",
            "\n",
            "**5. Reflexión y Cierre (15 minutos)**\n",
            "   - Después de todas las presentaciones, llevar a cabo una discusión sobre lo que aprendieron.\n",
            "   - Preguntar a los estudiantes cuál fue el dato más interesante que aprendieron y por qué.\n",
            "   - Finalizar la clase con un breve repaso sobre la importancia del sol en el sistema solar y cómo afecta a los planetas que orbitan a su alrededor.\n",
            "\n",
            "**6. Evaluación (tarea en casa)**\n",
            "   - Asignar una tarea en la que los estudiantes deben escribir un pequeño párrafo sobre el planeta que más les interesó y por qué.\n",
            "   - También podrían dibujar un modelo del sistema solar en una hoja de papel.\n",
            "\n",
            "**Recursos:**\n",
            "- Videos educativos sobre el sistema solar.\n",
            "- Libros de texto y enciclopedias.\n",
            "- Materiales para el arte (papel, marcadores, tijeras, revistas). \n",
            "\n",
            "Este plan de lección busca involucrar a los estudiantes de manera activa en su aprendizaje, fomentando tanto el trabajo en grupo como la investigación individual.\n",
            "\n",
            "--------------------------------------------------------------------------------\n",
            "\n",
            "Next speaker: reviewer_agent\n",
            "\n",
            "\n",
            ">>>>>>>> USING AUTO REPLY...\n",
            "reviewer_agent (to group_manager):\n",
            "\n",
            "Aquí tienes tres sugerencias de cambios para mejorar el plan de lección sobre el sistema solar:\n",
            "\n",
            "1. **Incluir Tecnología Interactiva:**\n",
            "   - En lugar de solo usar libros de texto y enciclopedias, se puede incorporar el uso de aplicaciones o sitios web interactivos sobre el sistema solar, como simulaciones o modelos 3D. Esto puede hacer que la investigación sea más atractiva y accesible para los estudiantes. Por ejemplo, utilizar aplicaciones como \"Google Earth\" para explorar el espacio o sitios web como \"NASA's Eyes on the Solar System\".\n",
            "\n",
            "2. **Conexión con Ciencias de la Tierra:**\n",
            "   - Agregar un segmento sobre cómo el sistema solar afecta la Tierra, como los cambios de estaciones, eclipses, y las mareas. Esto puede incluir una breve discusión sobre el fenómeno de la gravedad y cómo afecta la órbita de los planetas. Relacionar el contenido con la vida diaria de los estudiantes puede ayudar a que comprendan la relevancia del tema.\n",
            "\n",
            "3. **Variación en la Evaluación:**\n",
            "   - En lugar de solo una tarea escrita, se podría ofrecer una opción de presentación creativa, como un video corto o un modelo físico del sistema solar. Esto permitiría que los estudiantes usen diferentes habilidades y estilos de aprendizaje. También se podría incluir una autoevaluación o evaluación entre pares donde los estudiantes den retroalimentación constructiva sobre las presentaciones de sus compañeros. \n",
            "\n",
            "Estos cambios pueden enriquecer la experiencia de aprendizaje y hacer que el tema del sistema solar sea aún más interesante y relevante para los estudiantes de 4to grado.\n",
            "\n",
            "--------------------------------------------------------------------------------\n",
            "\n",
            "Next speaker: teacher_agent\n",
            "\n",
            "\n",
            ">>>>>>>> USING AUTO REPLY...\n",
            "teacher_agent (to group_manager):\n",
            "\n",
            "¡LISTO! He tomado en cuenta las sugerencias y he hecho ajustes en el plan de lección. Aquí está la versión revisada:\n",
            "\n",
            "---\n",
            "\n",
            "**Título:** Explorando el Sistema Solar\n",
            "\n",
            "**Objetivos de Aprendizaje:**\n",
            "1. Identificar los planetas del sistema solar y sus características principales.\n",
            "2. Comprender la relación entre el sol y los planetas, así como su impacto en la Tierra.\n",
            "3. Desarrollar habilidades de investigación y trabajo en equipo a través de un proyecto grupal.\n",
            "\n",
            "**Guion:**\n",
            "\n",
            "**1. Introducción (15 minutos)**\n",
            "   - Comenzar la clase preguntando a los estudiantes qué saben sobre el sistema solar.\n",
            "   - Presentar un video corto sobre el sistema solar para captar su atención.\n",
            "   - Explicar brevemente qué es el sistema solar y mencionar los principales cuerpos celestes que lo componen.\n",
            "\n",
            "**2. Presentación de los Planetas (30 minutos)**\n",
            "   - Dividir la clase en 8 grupos, asignando a cada uno un planeta del sistema solar.\n",
            "   - Proveer hojas de trabajo con preguntas guía sobre su planeta, que incluyan aspectos como tamaño, composición, temperatura, número de lunas y datos interesantes.\n",
            "   - Incorporar el uso de aplicaciones o sitios web interactivos para la investigación, como \"NASA's Eyes on the Solar System\".\n",
            "   - Dar a los grupos 20 minutos para investigar utilizando diversos recursos.\n",
            "\n",
            "**3. Creación de Posters (30 minutos)**\n",
            "   - Cada grupo creará un poster sobre su planeta que incluya la información investigada, dibujos y recortes relevantes.\n",
            "   - Fomentar la creatividad, sugiriendo que incluyan datos curiosos o mitos sobre su planeta.\n",
            "   - Proporcionar materiales como papel grande, marcadores, tijeras y revistas viejas.\n",
            "\n",
            "**4. Presentaciones de los Grupos (30 minutos)**\n",
            "   - Cada grupo tendrá 3-5 minutos para presentar su planeta al resto de la clase.\n",
            "   - Incluir un segmento sobre cómo el sistema solar afecta a la Tierra, como cambios de estaciones y eclipses.\n",
            "   - Fomentar la escucha activa y el respeto durante las presentaciones.\n",
            "\n",
            "**5. Reflexión y Cierre (15 minutos)**\n",
            "   - Llevar a cabo una discusión sobre lo que aprendieron, preguntando cuál fue el dato más interesante.\n",
            "   - Finalizar con un breve repaso sobre la importancia del sol y cómo afecta a los planetas.\n",
            "\n",
            "**6. Evaluación (tarea en casa)**\n",
            "   - Ofrecer varias opciones de tarea: escribir un párrafo sobre el planeta que más les interesó, dibujar un modelo del sistema solar, o crear un video corto sobre su planeta.\n",
            "   - Incluir una autoevaluación o evaluación entre pares donde los estudiantes den retroalimentación sobre las presentaciones de sus compañeros.\n",
            "\n",
            "**Recursos:**\n",
            "- Videos educativos sobre el sistema solar.\n",
            "- Aplicaciones interactivas y sitios web (ej. \"NASA's Eyes on the Solar System\").\n",
            "- Libros de texto y enciclopedias.\n",
            "- Materiales para el arte (papel, marcadores, tijeras, revistas).\n",
            "\n",
            "---\n",
            "\n",
            "Este plan de lección ha sido enriquecido con tecnología interactiva y enfoques innovadores para la evaluación. ¡Espero que sea útil!\n",
            "\n",
            "--------------------------------------------------------------------------------\n"
          ]
        }
      ]
    },
    {
      "cell_type": "code",
      "source": [],
      "metadata": {
        "id": "HBPJRpwfgqo3"
      },
      "execution_count": 14,
      "outputs": []
    }
  ]
}